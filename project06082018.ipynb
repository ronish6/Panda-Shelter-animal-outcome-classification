{
 "cells": [
  {
   "cell_type": "code",
   "execution_count": 1,
   "metadata": {},
   "outputs": [],
   "source": [
    "import numpy as np\n",
    "import pandas as pd\n",
    "from pandas.api.types import CategoricalDtype\n",
    "import matplotlib.pyplot as plt\n",
    "import seaborn as sns\n",
    "from time import time\n",
    "from os import getcwd\n",
    "\n",
    "\n",
    "pd.set_option('notebook_repr_html', True, 'max_columns', 0)\n",
    "%matplotlib inline"
   ]
  },
  {
   "cell_type": "raw",
   "metadata": {},
   "source": [
    "חלק א' - הבנת הבעיה\n",
    "•\tהבנת הבעיה - מה הבעיה? מה המטרה הסופית? מה אנחנו מנסים להשיג?\n",
    "•\tהבנה של עולם התוכן -  איזה פיצ'רים/נתונים יש לנו (מהות, ערכים והערות)? איזה נתונים חסרים לנו? אנחנו יכולים להשיג את הנתונים החסרים ממקור אחר? יש ערכים חסרים? יש ערכים חריגים? איך אפשר להתמודד איתם? וכו'\n",
    "•\tהצגת הנתונים בצורה רלוונטית וגזירת תובנות מהגרפים, לרבות הסברים על התובנות שיש לכם לאחר כל גרף.\n",
    "•\tחשיבה על פיצ'רים נוספים שיכולים להיגזר מהפיצ'רים הקיימים או ממקורות מידע אחרים.\n",
    "•\tתכנונים לשלב הבא.\n",
    "•\tתאריך הגשה: 24 ליוני 2018\n"
   ]
  },
  {
   "cell_type": "code",
   "execution_count": 2,
   "metadata": {},
   "outputs": [
    {
     "data": {
      "text/html": [
       "<div>\n",
       "<style scoped>\n",
       "    .dataframe tbody tr th:only-of-type {\n",
       "        vertical-align: middle;\n",
       "    }\n",
       "\n",
       "    .dataframe tbody tr th {\n",
       "        vertical-align: top;\n",
       "    }\n",
       "\n",
       "    .dataframe thead th {\n",
       "        text-align: right;\n",
       "    }\n",
       "</style>\n",
       "<table border=\"1\" class=\"dataframe\">\n",
       "  <thead>\n",
       "    <tr style=\"text-align: right;\">\n",
       "      <th></th>\n",
       "      <th>AnimalID</th>\n",
       "      <th>Name</th>\n",
       "      <th>OutcomeType</th>\n",
       "      <th>OutcomeSubtype</th>\n",
       "      <th>AnimalType</th>\n",
       "      <th>SexuponOutcome</th>\n",
       "      <th>AgeuponOutcome</th>\n",
       "      <th>Breed</th>\n",
       "      <th>Color</th>\n",
       "    </tr>\n",
       "    <tr>\n",
       "      <th>DateTime</th>\n",
       "      <th></th>\n",
       "      <th></th>\n",
       "      <th></th>\n",
       "      <th></th>\n",
       "      <th></th>\n",
       "      <th></th>\n",
       "      <th></th>\n",
       "      <th></th>\n",
       "      <th></th>\n",
       "    </tr>\n",
       "  </thead>\n",
       "  <tbody>\n",
       "    <tr>\n",
       "      <th>2014-02-12 18:22:00</th>\n",
       "      <td>A671945</td>\n",
       "      <td>Hambone</td>\n",
       "      <td>Return_to_owner</td>\n",
       "      <td>NaN</td>\n",
       "      <td>Dog</td>\n",
       "      <td>Neutered Male</td>\n",
       "      <td>1 year</td>\n",
       "      <td>Shetland Sheepdog Mix</td>\n",
       "      <td>Brown/White</td>\n",
       "    </tr>\n",
       "    <tr>\n",
       "      <th>2013-10-13 12:44:00</th>\n",
       "      <td>A656520</td>\n",
       "      <td>Emily</td>\n",
       "      <td>Euthanasia</td>\n",
       "      <td>Suffering</td>\n",
       "      <td>Cat</td>\n",
       "      <td>Spayed Female</td>\n",
       "      <td>1 year</td>\n",
       "      <td>Domestic Shorthair Mix</td>\n",
       "      <td>Cream Tabby</td>\n",
       "    </tr>\n",
       "    <tr>\n",
       "      <th>2015-01-31 12:28:00</th>\n",
       "      <td>A686464</td>\n",
       "      <td>Pearce</td>\n",
       "      <td>Adoption</td>\n",
       "      <td>Foster</td>\n",
       "      <td>Dog</td>\n",
       "      <td>Neutered Male</td>\n",
       "      <td>2 years</td>\n",
       "      <td>Pit Bull Mix</td>\n",
       "      <td>Blue/White</td>\n",
       "    </tr>\n",
       "    <tr>\n",
       "      <th>2014-07-11 19:09:00</th>\n",
       "      <td>A683430</td>\n",
       "      <td>NaN</td>\n",
       "      <td>Transfer</td>\n",
       "      <td>Partner</td>\n",
       "      <td>Cat</td>\n",
       "      <td>Intact Male</td>\n",
       "      <td>3 weeks</td>\n",
       "      <td>Domestic Shorthair Mix</td>\n",
       "      <td>Blue Cream</td>\n",
       "    </tr>\n",
       "    <tr>\n",
       "      <th>2013-11-15 12:52:00</th>\n",
       "      <td>A667013</td>\n",
       "      <td>NaN</td>\n",
       "      <td>Transfer</td>\n",
       "      <td>Partner</td>\n",
       "      <td>Dog</td>\n",
       "      <td>Neutered Male</td>\n",
       "      <td>2 years</td>\n",
       "      <td>Lhasa Apso/Miniature Poodle</td>\n",
       "      <td>Tan</td>\n",
       "    </tr>\n",
       "  </tbody>\n",
       "</table>\n",
       "</div>"
      ],
      "text/plain": [
       "                    AnimalID     ...             Color\n",
       "DateTime                         ...                  \n",
       "2014-02-12 18:22:00  A671945     ...       Brown/White\n",
       "2013-10-13 12:44:00  A656520     ...       Cream Tabby\n",
       "2015-01-31 12:28:00  A686464     ...        Blue/White\n",
       "2014-07-11 19:09:00  A683430     ...        Blue Cream\n",
       "2013-11-15 12:52:00  A667013     ...               Tan\n",
       "\n",
       "[5 rows x 9 columns]"
      ]
     },
     "execution_count": 2,
     "metadata": {},
     "output_type": "execute_result"
    }
   ],
   "source": [
    "path=r'C:\\Users\\roni.shashua\\Desktop\\payton\\project 2'\n",
    "#path_tal = r'C:\\Users\\Tal\\Desktop\\DS-Python\\python_project2'\n",
    "df_data = pd.read_csv(path + \"\\\\train.csv\")\n",
    "#df_data = pd.read_csv(path_tal + \"\\\\train.csv\")\n",
    "df_data['DateTime'] = pd.to_datetime(df_data['DateTime'])\n",
    "df_data.set_index('DateTime', inplace=True)\n",
    "df_data.head()"
   ]
  },
  {
   "cell_type": "code",
   "execution_count": 3,
   "metadata": {},
   "outputs": [
    {
     "name": "stdout",
     "output_type": "stream",
     "text": [
      "<class 'pandas.core.frame.DataFrame'>\n",
      "DatetimeIndex: 26729 entries, 2014-02-12 18:22:00 to 2015-07-02 09:00:00\n",
      "Data columns (total 9 columns):\n",
      "AnimalID          26729 non-null object\n",
      "Name              19038 non-null object\n",
      "OutcomeType       26729 non-null object\n",
      "OutcomeSubtype    13117 non-null object\n",
      "AnimalType        26729 non-null object\n",
      "SexuponOutcome    26728 non-null object\n",
      "AgeuponOutcome    26711 non-null object\n",
      "Breed             26729 non-null object\n",
      "Color             26729 non-null object\n",
      "dtypes: object(9)\n",
      "memory usage: 2.0+ MB\n"
     ]
    }
   ],
   "source": [
    "df_data.info()"
   ]
  },
  {
   "cell_type": "code",
   "execution_count": 4,
   "metadata": {},
   "outputs": [
    {
     "data": {
      "text/html": [
       "<div>\n",
       "<style scoped>\n",
       "    .dataframe tbody tr th:only-of-type {\n",
       "        vertical-align: middle;\n",
       "    }\n",
       "\n",
       "    .dataframe tbody tr th {\n",
       "        vertical-align: top;\n",
       "    }\n",
       "\n",
       "    .dataframe thead th {\n",
       "        text-align: right;\n",
       "    }\n",
       "</style>\n",
       "<table border=\"1\" class=\"dataframe\">\n",
       "  <thead>\n",
       "    <tr style=\"text-align: right;\">\n",
       "      <th></th>\n",
       "      <th>AnimalID</th>\n",
       "      <th>Name</th>\n",
       "      <th>OutcomeType</th>\n",
       "      <th>OutcomeSubtype</th>\n",
       "      <th>AnimalType</th>\n",
       "      <th>SexuponOutcome</th>\n",
       "      <th>AgeuponOutcome</th>\n",
       "      <th>Breed</th>\n",
       "      <th>Color</th>\n",
       "    </tr>\n",
       "  </thead>\n",
       "  <tbody>\n",
       "    <tr>\n",
       "      <th>count</th>\n",
       "      <td>26729</td>\n",
       "      <td>19038</td>\n",
       "      <td>26729</td>\n",
       "      <td>13117</td>\n",
       "      <td>26729</td>\n",
       "      <td>26728</td>\n",
       "      <td>26711</td>\n",
       "      <td>26729</td>\n",
       "      <td>26729</td>\n",
       "    </tr>\n",
       "    <tr>\n",
       "      <th>unique</th>\n",
       "      <td>26729</td>\n",
       "      <td>6374</td>\n",
       "      <td>5</td>\n",
       "      <td>16</td>\n",
       "      <td>2</td>\n",
       "      <td>5</td>\n",
       "      <td>44</td>\n",
       "      <td>1380</td>\n",
       "      <td>366</td>\n",
       "    </tr>\n",
       "    <tr>\n",
       "      <th>top</th>\n",
       "      <td>A712995</td>\n",
       "      <td>Max</td>\n",
       "      <td>Adoption</td>\n",
       "      <td>Partner</td>\n",
       "      <td>Dog</td>\n",
       "      <td>Neutered Male</td>\n",
       "      <td>1 year</td>\n",
       "      <td>Domestic Shorthair Mix</td>\n",
       "      <td>Black/White</td>\n",
       "    </tr>\n",
       "    <tr>\n",
       "      <th>freq</th>\n",
       "      <td>1</td>\n",
       "      <td>136</td>\n",
       "      <td>10769</td>\n",
       "      <td>7816</td>\n",
       "      <td>15595</td>\n",
       "      <td>9779</td>\n",
       "      <td>3969</td>\n",
       "      <td>8810</td>\n",
       "      <td>2824</td>\n",
       "    </tr>\n",
       "  </tbody>\n",
       "</table>\n",
       "</div>"
      ],
      "text/plain": [
       "       AnimalID   Name     ...                        Breed        Color\n",
       "count     26729  19038     ...                        26729        26729\n",
       "unique    26729   6374     ...                         1380          366\n",
       "top     A712995    Max     ...       Domestic Shorthair Mix  Black/White\n",
       "freq          1    136     ...                         8810         2824\n",
       "\n",
       "[4 rows x 9 columns]"
      ]
     },
     "execution_count": 4,
     "metadata": {},
     "output_type": "execute_result"
    }
   ],
   "source": [
    "df_data.describe()"
   ]
  },
  {
   "cell_type": "markdown",
   "metadata": {},
   "source": [
    "Finding AnimalType distribution"
   ]
  },
  {
   "cell_type": "code",
   "execution_count": 5,
   "metadata": {},
   "outputs": [
    {
     "data": {
      "text/plain": [
       "Dog    15595\n",
       "Cat    11134\n",
       "Name: AnimalType, dtype: int64"
      ]
     },
     "execution_count": 5,
     "metadata": {},
     "output_type": "execute_result"
    }
   ],
   "source": [
    "df_data['AnimalType'].value_counts()"
   ]
  },
  {
   "cell_type": "code",
   "execution_count": 6,
   "metadata": {},
   "outputs": [
    {
     "data": {
      "text/plain": [
       "<matplotlib.axes._subplots.AxesSubplot at 0xb259898>"
      ]
     },
     "execution_count": 6,
     "metadata": {},
     "output_type": "execute_result"
    },
    {
     "data": {
      "image/png": "[encoded data removed]",
      "text/plain": [
       "<Figure size 432x288 with 1 Axes>"
      ]
     },
     "metadata": {},
     "output_type": "display_data"
    }
   ],
   "source": [
    "df_data.groupby('AnimalType')['AnimalID'].count().plot(kind='bar')"
   ]
  },
  {
   "cell_type": "markdown",
   "metadata": {},
   "source": [
    "מסקנה - כמות הכלבים באוכלוסיה גדול מכמות החתולים"
   ]
  },
  {
   "cell_type": "markdown",
   "metadata": {},
   "source": [
    "Finding SexuponOutcome distribution"
   ]
  },
  {
   "cell_type": "code",
   "execution_count": 7,
   "metadata": {},
   "outputs": [
    {
     "name": "stdout",
     "output_type": "stream",
     "text": [
      "                 AnimalID\n",
      "SexuponOutcome           \n",
      "Intact Female   13.136037\n",
      "Intact Male     13.188417\n",
      "Neutered Male   36.587100\n",
      "Spayed Female   32.999102\n",
      "Unknown          4.089345\n"
     ]
    },
    {
     "data": {
      "text/plain": [
       "<matplotlib.axes._subplots.AxesSubplot at 0xb3e4c88>"
      ]
     },
     "execution_count": 7,
     "metadata": {},
     "output_type": "execute_result"
    },
    {
     "data": {
      "image/png": "[encoded data removed]",
      "text/plain": [
       "<Figure size 432x288 with 1 Axes>"
      ]
     },
     "metadata": {},
     "output_type": "display_data"
    }
   ],
   "source": [
    "df_SexuponOutcome=df_data.groupby('SexuponOutcome').agg({'AnimalID': 'count'})\n",
    "SexuponOutcome_total = df_SexuponOutcome.agg({'AnimalID': 'sum'})\n",
    "df_SexuponOutcome=(df_SexuponOutcome.div(SexuponOutcome_total, level='SexuponOutcome_total') * 100)\n",
    "print(df_SexuponOutcome)\n",
    "df_SexuponOutcome.plot(kind='bar')"
   ]
  },
  {
   "cell_type": "markdown",
   "metadata": {},
   "source": [
    "מסקנה- כמות הכלבים/חתולים המעוקרים גבוהה מהיתר"
   ]
  },
  {
   "cell_type": "markdown",
   "metadata": {},
   "source": [
    "Finding SexuponOutcome distribution by AnimalType"
   ]
  },
  {
   "cell_type": "code",
   "execution_count": 8,
   "metadata": {},
   "outputs": [
    {
     "data": {
      "text/html": [
       "<div>\n",
       "<style scoped>\n",
       "    .dataframe tbody tr th:only-of-type {\n",
       "        vertical-align: middle;\n",
       "    }\n",
       "\n",
       "    .dataframe tbody tr th {\n",
       "        vertical-align: top;\n",
       "    }\n",
       "\n",
       "    .dataframe thead th {\n",
       "        text-align: right;\n",
       "    }\n",
       "</style>\n",
       "<table border=\"1\" class=\"dataframe\">\n",
       "  <thead>\n",
       "    <tr style=\"text-align: right;\">\n",
       "      <th>AnimalType</th>\n",
       "      <th>Cat</th>\n",
       "      <th>Dog</th>\n",
       "    </tr>\n",
       "    <tr>\n",
       "      <th>SexuponOutcome</th>\n",
       "      <th></th>\n",
       "      <th></th>\n",
       "    </tr>\n",
       "  </thead>\n",
       "  <tbody>\n",
       "    <tr>\n",
       "      <th>Intact Female</th>\n",
       "      <td>2114</td>\n",
       "      <td>1397</td>\n",
       "    </tr>\n",
       "    <tr>\n",
       "      <th>Intact Male</th>\n",
       "      <td>1927</td>\n",
       "      <td>1598</td>\n",
       "    </tr>\n",
       "    <tr>\n",
       "      <th>Neutered Male</th>\n",
       "      <td>3065</td>\n",
       "      <td>6714</td>\n",
       "    </tr>\n",
       "    <tr>\n",
       "      <th>Spayed Female</th>\n",
       "      <td>3012</td>\n",
       "      <td>5808</td>\n",
       "    </tr>\n",
       "    <tr>\n",
       "      <th>Unknown</th>\n",
       "      <td>1016</td>\n",
       "      <td>77</td>\n",
       "    </tr>\n",
       "  </tbody>\n",
       "</table>\n",
       "</div>"
      ],
      "text/plain": [
       "AnimalType       Cat   Dog\n",
       "SexuponOutcome            \n",
       "Intact Female   2114  1397\n",
       "Intact Male     1927  1598\n",
       "Neutered Male   3065  6714\n",
       "Spayed Female   3012  5808\n",
       "Unknown         1016    77"
      ]
     },
     "execution_count": 8,
     "metadata": {},
     "output_type": "execute_result"
    }
   ],
   "source": [
    "df_data.groupby(['SexuponOutcome','AnimalType'])['AnimalType'].count().unstack()"
   ]
  },
  {
   "cell_type": "markdown",
   "metadata": {},
   "source": [
    "מסקנה- כמות הכלבים/חתולים המעוקרים גבוהה מהיתר אין שוני בין סוגי החיות"
   ]
  },
  {
   "cell_type": "markdown",
   "metadata": {},
   "source": [
    "Finding SexuponOutcome distribution by AnimalType - count"
   ]
  },
  {
   "cell_type": "code",
   "execution_count": 9,
   "metadata": {},
   "outputs": [
    {
     "data": {
      "text/plain": [
       "<matplotlib.axes._subplots.AxesSubplot at 0xb8b4400>"
      ]
     },
     "execution_count": 9,
     "metadata": {},
     "output_type": "execute_result"
    },
    {
     "data": {
      "image/png": "[encoded data removed]",
      "text/plain": [
       "<Figure size 1080x360 with 1 Axes>"
      ]
     },
     "metadata": {},
     "output_type": "display_data"
    }
   ],
   "source": [
    "df_data.groupby(['SexuponOutcome','AnimalType'])['AnimalType'].count().unstack().plot(kind='bar',figsize=(15, 5))"
   ]
  },
  {
   "cell_type": "markdown",
   "metadata": {},
   "source": [
    "Finding SexuponOutcome distribution by AnimalType - Percent from total"
   ]
  },
  {
   "cell_type": "code",
   "execution_count": 10,
   "metadata": {},
   "outputs": [
    {
     "name": "stdout",
     "output_type": "stream",
     "text": [
      "AnimalType            Cat        Dog\n",
      "SexuponOutcome                      \n",
      "Intact Female   18.986887   8.958574\n",
      "Intact Male     17.307347  10.247531\n",
      "Neutered Male   27.528292  43.055021\n",
      "Spayed Female   27.052272  37.245094\n",
      "Unknown          9.125202   0.493780\n"
     ]
    }
   ],
   "source": [
    "df_SexuponOutcome = df_data.groupby(['SexuponOutcome','AnimalType'])['AnimalType'].count().unstack()\n",
    "SexuponOutcome_total = df_SexuponOutcome.agg({'Dog': 'sum','Cat': 'sum'})\n",
    "#print(SexuponOutcome_total)\n",
    "df_SexuponOutcome['Dog']=(df_SexuponOutcome['Dog'].div(SexuponOutcome_total['Dog'] ) * 100)\n",
    "df_SexuponOutcome['Cat']=(df_SexuponOutcome['Cat'].div(SexuponOutcome_total['Cat'] ) * 100)\n",
    "print(df_SexuponOutcome)"
   ]
  },
  {
   "cell_type": "code",
   "execution_count": 11,
   "metadata": {},
   "outputs": [
    {
     "data": {
      "text/plain": [
       "<matplotlib.axes._subplots.AxesSubplot at 0xb3e4ba8>"
      ]
     },
     "execution_count": 11,
     "metadata": {},
     "output_type": "execute_result"
    },
    {
     "data": {
      "image/png": "[encoded data removed]",
      "text/plain": [
       "<Figure size 1080x360 with 1 Axes>"
      ]
     },
     "metadata": {},
     "output_type": "display_data"
    }
   ],
   "source": [
    "df_SexuponOutcome.plot(kind='bar',figsize=(15, 5))"
   ]
  },
  {
   "cell_type": "markdown",
   "metadata": {},
   "source": [
    "מסקנה- אחוז הכלבים המעוקרים גבוהה יותר מאשר אצל החתולים"
   ]
  },
  {
   "cell_type": "markdown",
   "metadata": {},
   "source": [
    "Finding Animal age distribution"
   ]
  },
  {
   "cell_type": "code",
   "execution_count": 12,
   "metadata": {},
   "outputs": [],
   "source": [
    "def agetodays(x):\n",
    "        try:\n",
    "            y = x.split()\n",
    "        except:\n",
    "            return None \n",
    "        if 'year' in y[1]:\n",
    "            return float(y[0]) * 365\n",
    "        elif 'month' in y[1]:\n",
    "            return float(y[0]) * (365/12)\n",
    "        elif 'week' in y[1]:\n",
    "            return float(y[0]) * 7\n",
    "        elif 'day' in y[1]:\n",
    "            return float(y[0])"
   ]
  },
  {
   "cell_type": "code",
   "execution_count": 13,
   "metadata": {},
   "outputs": [],
   "source": [
    "df_data['age']=df_data['AgeuponOutcome'].apply(agetodays, 'AgeuponOutcome')"
   ]
  },
  {
   "cell_type": "code",
   "execution_count": 14,
   "metadata": {},
   "outputs": [],
   "source": [
    "#df_data.head()"
   ]
  },
  {
   "cell_type": "code",
   "execution_count": 15,
   "metadata": {},
   "outputs": [],
   "source": [
    "filter_method = lambda x: '1 month' if (x <= 31.0 and x >= 0.0)  else 'month - 6 month' if (x <= 180.0 and x >= 32.0) else '6 month-1 year' if(x <= 365.0 and x >= 181.0) else 'more then 1 year' if(x >= 366.0) else None\n",
    "df_data['age-range'] = df_data['age'].apply(filter_method)\n",
    "#df_data.head()"
   ]
  },
  {
   "cell_type": "markdown",
   "metadata": {},
   "source": [
    "Finding Animal age distribution  - Sum"
   ]
  },
  {
   "cell_type": "code",
   "execution_count": 16,
   "metadata": {},
   "outputs": [
    {
     "data": {
      "text/plain": [
       "<matplotlib.axes._subplots.AxesSubplot at 0xc1d1128>"
      ]
     },
     "execution_count": 16,
     "metadata": {},
     "output_type": "execute_result"
    },
    {
     "data": {
      "image/png": "[encoded data removed]",
      "text/plain": [
       "<Figure size 1080x360 with 1 Axes>"
      ]
     },
     "metadata": {},
     "output_type": "display_data"
    }
   ],
   "source": [
    "df_age=pd.pivot_table(df_data,\n",
    "               index='age-range',\n",
    "               columns='AnimalType', \n",
    "               values='AnimalID', \n",
    "               aggfunc='count',\n",
    "               fill_value=0)\n",
    "df_age.plot(kind='bar',figsize=(15, 5))"
   ]
  },
  {
   "cell_type": "markdown",
   "metadata": {},
   "source": [
    "מסקנה התפלגות האוכלוסיה- אצל כלבים מעל חצי שנה גבוהה יותר , לעומת חתולים שמתחת לשנה "
   ]
  },
  {
   "cell_type": "markdown",
   "metadata": {},
   "source": [
    "Finding Animal age distribution -  Percent from total"
   ]
  },
  {
   "cell_type": "code",
   "execution_count": 17,
   "metadata": {},
   "outputs": [
    {
     "data": {
      "text/html": [
       "<div>\n",
       "<style scoped>\n",
       "    .dataframe tbody tr th:only-of-type {\n",
       "        vertical-align: middle;\n",
       "    }\n",
       "\n",
       "    .dataframe tbody tr th {\n",
       "        vertical-align: top;\n",
       "    }\n",
       "\n",
       "    .dataframe thead tr th {\n",
       "        text-align: left;\n",
       "    }\n",
       "\n",
       "    .dataframe thead tr:last-of-type th {\n",
       "        text-align: right;\n",
       "    }\n",
       "</style>\n",
       "<table border=\"1\" class=\"dataframe\">\n",
       "  <thead>\n",
       "    <tr>\n",
       "      <th>AnimalType</th>\n",
       "      <th colspan=\"5\" halign=\"left\">Cat</th>\n",
       "      <th colspan=\"5\" halign=\"left\">Dog</th>\n",
       "      <th>All</th>\n",
       "    </tr>\n",
       "    <tr>\n",
       "      <th>OutcomeType</th>\n",
       "      <th>Adoption</th>\n",
       "      <th>Died</th>\n",
       "      <th>Euthanasia</th>\n",
       "      <th>Return_to_owner</th>\n",
       "      <th>Transfer</th>\n",
       "      <th>Adoption</th>\n",
       "      <th>Died</th>\n",
       "      <th>Euthanasia</th>\n",
       "      <th>Return_to_owner</th>\n",
       "      <th>Transfer</th>\n",
       "      <th></th>\n",
       "    </tr>\n",
       "    <tr>\n",
       "      <th>age-range</th>\n",
       "      <th></th>\n",
       "      <th></th>\n",
       "      <th></th>\n",
       "      <th></th>\n",
       "      <th></th>\n",
       "      <th></th>\n",
       "      <th></th>\n",
       "      <th></th>\n",
       "      <th></th>\n",
       "      <th></th>\n",
       "      <th></th>\n",
       "    </tr>\n",
       "  </thead>\n",
       "  <tbody>\n",
       "    <tr>\n",
       "      <th>1 month</th>\n",
       "      <td>194</td>\n",
       "      <td>90</td>\n",
       "      <td>181</td>\n",
       "      <td>4</td>\n",
       "      <td>2301</td>\n",
       "      <td>250</td>\n",
       "      <td>12</td>\n",
       "      <td>26</td>\n",
       "      <td>36</td>\n",
       "      <td>446</td>\n",
       "      <td>3540</td>\n",
       "    </tr>\n",
       "    <tr>\n",
       "      <th>6 month-1 year</th>\n",
       "      <td>552</td>\n",
       "      <td>9</td>\n",
       "      <td>106</td>\n",
       "      <td>96</td>\n",
       "      <td>1138</td>\n",
       "      <td>2118</td>\n",
       "      <td>9</td>\n",
       "      <td>129</td>\n",
       "      <td>904</td>\n",
       "      <td>1033</td>\n",
       "      <td>6094</td>\n",
       "    </tr>\n",
       "    <tr>\n",
       "      <th>month - 6 month</th>\n",
       "      <td>2837</td>\n",
       "      <td>27</td>\n",
       "      <td>81</td>\n",
       "      <td>47</td>\n",
       "      <td>915</td>\n",
       "      <td>1412</td>\n",
       "      <td>5</td>\n",
       "      <td>32</td>\n",
       "      <td>158</td>\n",
       "      <td>711</td>\n",
       "      <td>6225</td>\n",
       "    </tr>\n",
       "    <tr>\n",
       "      <th>more then 1 year</th>\n",
       "      <td>689</td>\n",
       "      <td>21</td>\n",
       "      <td>341</td>\n",
       "      <td>353</td>\n",
       "      <td>1135</td>\n",
       "      <td>2717</td>\n",
       "      <td>24</td>\n",
       "      <td>657</td>\n",
       "      <td>3188</td>\n",
       "      <td>1727</td>\n",
       "      <td>10852</td>\n",
       "    </tr>\n",
       "    <tr>\n",
       "      <th>All</th>\n",
       "      <td>4272</td>\n",
       "      <td>147</td>\n",
       "      <td>709</td>\n",
       "      <td>500</td>\n",
       "      <td>5489</td>\n",
       "      <td>6497</td>\n",
       "      <td>50</td>\n",
       "      <td>844</td>\n",
       "      <td>4286</td>\n",
       "      <td>3917</td>\n",
       "      <td>26711</td>\n",
       "    </tr>\n",
       "  </tbody>\n",
       "</table>\n",
       "</div>"
      ],
      "text/plain": [
       "AnimalType            Cat                  ...               Dog             All\n",
       "OutcomeType      Adoption Died Euthanasia  ...   Return_to_owner Transfer       \n",
       "age-range                                  ...                                  \n",
       "1 month               194   90        181  ...                36      446   3540\n",
       "6 month-1 year        552    9        106  ...               904     1033   6094\n",
       "month - 6 month      2837   27         81  ...               158      711   6225\n",
       "more then 1 year      689   21        341  ...              3188     1727  10852\n",
       "All                  4272  147        709  ...              4286     3917  26711\n",
       "\n",
       "[5 rows x 11 columns]"
      ]
     },
     "execution_count": 17,
     "metadata": {},
     "output_type": "execute_result"
    }
   ],
   "source": [
    "df_age=pd.pivot_table(df_data,\n",
    "               index='age-range',\n",
    "               columns=['AnimalType','OutcomeType'], \n",
    "               values='AnimalID', \n",
    "               aggfunc='count',\n",
    "               margins=True,\n",
    "               fill_value=0)\n",
    "df_age"
   ]
  },
  {
   "cell_type": "code",
   "execution_count": 18,
   "metadata": {},
   "outputs": [],
   "source": [
    "#df_age.iloc[-1]"
   ]
  },
  {
   "cell_type": "markdown",
   "metadata": {},
   "source": [
    "Finding Animal age distribution - Percent from row total"
   ]
  },
  {
   "cell_type": "code",
   "execution_count": 19,
   "metadata": {},
   "outputs": [
    {
     "data": {
      "text/html": [
       "<div>\n",
       "<style scoped>\n",
       "    .dataframe tbody tr th:only-of-type {\n",
       "        vertical-align: middle;\n",
       "    }\n",
       "\n",
       "    .dataframe tbody tr th {\n",
       "        vertical-align: top;\n",
       "    }\n",
       "\n",
       "    .dataframe thead tr th {\n",
       "        text-align: left;\n",
       "    }\n",
       "\n",
       "    .dataframe thead tr:last-of-type th {\n",
       "        text-align: right;\n",
       "    }\n",
       "</style>\n",
       "<table border=\"1\" class=\"dataframe\">\n",
       "  <thead>\n",
       "    <tr>\n",
       "      <th>AnimalType</th>\n",
       "      <th colspan=\"5\" halign=\"left\">Cat</th>\n",
       "      <th colspan=\"5\" halign=\"left\">Dog</th>\n",
       "    </tr>\n",
       "    <tr>\n",
       "      <th>OutcomeType</th>\n",
       "      <th>Adoption</th>\n",
       "      <th>Died</th>\n",
       "      <th>Euthanasia</th>\n",
       "      <th>Return_to_owner</th>\n",
       "      <th>Transfer</th>\n",
       "      <th>Adoption</th>\n",
       "      <th>Died</th>\n",
       "      <th>Euthanasia</th>\n",
       "      <th>Return_to_owner</th>\n",
       "      <th>Transfer</th>\n",
       "    </tr>\n",
       "    <tr>\n",
       "      <th>age-range</th>\n",
       "      <th></th>\n",
       "      <th></th>\n",
       "      <th></th>\n",
       "      <th></th>\n",
       "      <th></th>\n",
       "      <th></th>\n",
       "      <th></th>\n",
       "      <th></th>\n",
       "      <th></th>\n",
       "      <th></th>\n",
       "    </tr>\n",
       "  </thead>\n",
       "  <tbody>\n",
       "    <tr>\n",
       "      <th>1 month</th>\n",
       "      <td>4.5</td>\n",
       "      <td>61.2</td>\n",
       "      <td>25.5</td>\n",
       "      <td>0.8</td>\n",
       "      <td>41.9</td>\n",
       "      <td>3.8</td>\n",
       "      <td>24.0</td>\n",
       "      <td>3.1</td>\n",
       "      <td>0.8</td>\n",
       "      <td>11.4</td>\n",
       "    </tr>\n",
       "    <tr>\n",
       "      <th>6 month-1 year</th>\n",
       "      <td>12.9</td>\n",
       "      <td>6.1</td>\n",
       "      <td>15.0</td>\n",
       "      <td>19.2</td>\n",
       "      <td>20.7</td>\n",
       "      <td>32.6</td>\n",
       "      <td>18.0</td>\n",
       "      <td>15.3</td>\n",
       "      <td>21.1</td>\n",
       "      <td>26.4</td>\n",
       "    </tr>\n",
       "    <tr>\n",
       "      <th>month - 6 month</th>\n",
       "      <td>66.4</td>\n",
       "      <td>18.4</td>\n",
       "      <td>11.4</td>\n",
       "      <td>9.4</td>\n",
       "      <td>16.7</td>\n",
       "      <td>21.7</td>\n",
       "      <td>10.0</td>\n",
       "      <td>3.8</td>\n",
       "      <td>3.7</td>\n",
       "      <td>18.2</td>\n",
       "    </tr>\n",
       "    <tr>\n",
       "      <th>more then 1 year</th>\n",
       "      <td>16.1</td>\n",
       "      <td>14.3</td>\n",
       "      <td>48.1</td>\n",
       "      <td>70.6</td>\n",
       "      <td>20.7</td>\n",
       "      <td>41.8</td>\n",
       "      <td>48.0</td>\n",
       "      <td>77.8</td>\n",
       "      <td>74.4</td>\n",
       "      <td>44.1</td>\n",
       "    </tr>\n",
       "  </tbody>\n",
       "</table>\n",
       "</div>"
      ],
      "text/plain": [
       "AnimalType            Cat         ...                Dog         \n",
       "OutcomeType      Adoption  Died   ...    Return_to_owner Transfer\n",
       "age-range                         ...                            \n",
       "1 month               4.5  61.2   ...                0.8     11.4\n",
       "6 month-1 year       12.9   6.1   ...               21.1     26.4\n",
       "month - 6 month      66.4  18.4   ...                3.7     18.2\n",
       "more then 1 year     16.1  14.3   ...               74.4     44.1\n",
       "\n",
       "[4 rows x 10 columns]"
      ]
     },
     "execution_count": 19,
     "metadata": {},
     "output_type": "execute_result"
    }
   ],
   "source": [
    "df_percentage = np.round(df_age*100/df_age.iloc[-1], 1)\n",
    "\n",
    "df_percentage.iloc[:-1,:-1]"
   ]
  },
  {
   "cell_type": "code",
   "execution_count": 20,
   "metadata": {},
   "outputs": [
    {
     "data": {
      "text/plain": [
       "<matplotlib.axes._subplots.AxesSubplot at 0xc23d320>"
      ]
     },
     "execution_count": 20,
     "metadata": {},
     "output_type": "execute_result"
    },
    {
     "data": {
      "image/png": "[encoded data removed]",
      "text/plain": [
       "<Figure size 1080x504 with 1 Axes>"
      ]
     },
     "metadata": {},
     "output_type": "display_data"
    }
   ],
   "source": [
    "df_percentage.iloc[:-1,:-1].plot(kind='bar',figsize=(15, 7))"
   ]
  },
  {
   "cell_type": "markdown",
   "metadata": {},
   "source": [
    "מסקנה-\n",
    "אחוז החתולים בין חודש ל6 חודש שמאומצים גבוהה בצורה ניכרת\n",
    ",כמות החתולים שמתים עד גיל חודש הוא הגבוהה ביותר\n"
   ]
  },
  {
   "cell_type": "code",
   "execution_count": 21,
   "metadata": {
    "scrolled": false
   },
   "outputs": [],
   "source": [
    "####  ######################################33\n",
    "####  OutcomeType פונקציה שמחזירה טבלה עם אחוזים לחיזוי נתון ה\n",
    "####  כתלות בעמודה שאותה בודקים\n",
    "####  ######################################33\n",
    "def pivot_return_table(df_data,column):\n",
    "    grpby_colum = df_data.groupby(['OutcomeType', column]).size().reset_index().rename(columns = {0: 'Count'})\n",
    "    add_data_grpby_colum = grpby_colum.merge((df_data.groupby([column]).size().reset_index().rename(columns = {0: 'Total'})), how = 'inner', on = column)\n",
    "    final_table = add_data_grpby_colum.assign(Percent = lambda x: x.Count / x.Total)\n",
    "    return final_table\n",
    "\n"
   ]
  },
  {
   "cell_type": "code",
   "execution_count": 22,
   "metadata": {},
   "outputs": [
    {
     "name": "stdout",
     "output_type": "stream",
     "text": [
      "       OutcomeType AnimalType  Count  Total   Percent\n",
      "0         Adoption        Cat   4272  11134  0.383690\n",
      "1             Died        Cat    147  11134  0.013203\n",
      "2       Euthanasia        Cat    710  11134  0.063769\n",
      "3  Return_to_owner        Cat    500  11134  0.044907\n",
      "4         Transfer        Cat   5505  11134  0.494431\n",
      "5         Adoption        Dog   6497  15595  0.416608\n",
      "6             Died        Dog     50  15595  0.003206\n",
      "7       Euthanasia        Dog    845  15595  0.054184\n",
      "8  Return_to_owner        Dog   4286  15595  0.274832\n",
      "9         Transfer        Dog   3917  15595  0.251170\n"
     ]
    }
   ],
   "source": [
    "AnimalType_OutcomeType_percent = pivot_return_table(df_data,'AnimalType')\n",
    "print(AnimalType_OutcomeType_percent)\n"
   ]
  },
  {
   "cell_type": "code",
   "execution_count": 23,
   "metadata": {},
   "outputs": [
    {
     "data": {
      "text/plain": [
       "<matplotlib.axes._subplots.AxesSubplot at 0xc490358>"
      ]
     },
     "execution_count": 23,
     "metadata": {},
     "output_type": "execute_result"
    },
    {
     "data": {
      "image/png": "[encoded data removed]",
      "text/plain": [
       "<Figure size 1080x360 with 1 Axes>"
      ]
     },
     "metadata": {},
     "output_type": "display_data"
    }
   ],
   "source": [
    "AnimalType_OutcomeType_percent.iloc[:,[0,1,-1]].pivot(index='OutcomeType',columns = 'AnimalType', values='Percent').plot(kind='bar',figsize=(15, 5))"
   ]
  },
  {
   "cell_type": "markdown",
   "metadata": {},
   "source": [
    "מסקנה - ישנה שונות באחוז החיות שמוחזרים לבעלים אצל הכלבים גבוהה יותר"
   ]
  },
  {
   "cell_type": "markdown",
   "metadata": {},
   "source": [
    "Finding SexuponOutcome Vs OutcomeType distribution"
   ]
  },
  {
   "cell_type": "code",
   "execution_count": 24,
   "metadata": {},
   "outputs": [
    {
     "name": "stdout",
     "output_type": "stream",
     "text": [
      "        OutcomeType SexuponOutcome  Count  Total   Percent\n",
      "0          Adoption  Intact Female    203   3511  0.057818\n",
      "1              Died  Intact Female     56   3511  0.015950\n",
      "2        Euthanasia  Intact Female    401   3511  0.114212\n",
      "3   Return_to_owner  Intact Female    301   3511  0.085731\n",
      "4          Transfer  Intact Female   2550   3511  0.726289\n",
      "5          Adoption    Intact Male    158   3525  0.044823\n",
      "6              Died    Intact Male     79   3525  0.022411\n",
      "7        Euthanasia    Intact Male    477   3525  0.135319\n",
      "8   Return_to_owner    Intact Male    477   3525  0.135319\n",
      "9          Transfer    Intact Male   2334   3525  0.662128\n",
      "10         Adoption  Neutered Male   5222   9779  0.534001\n",
      "11             Died  Neutered Male     19   9779  0.001943\n",
      "12       Euthanasia  Neutered Male    344   9779  0.035177\n",
      "13  Return_to_owner  Neutered Male   2247   9779  0.229778\n",
      "14         Transfer  Neutered Male   1947   9779  0.199100\n",
      "15         Adoption  Spayed Female   5186   8820  0.587982\n",
      "16             Died  Spayed Female     18   8820  0.002041\n",
      "17       Euthanasia  Spayed Female    232   8820  0.026304\n",
      "18  Return_to_owner  Spayed Female   1748   8820  0.198186\n",
      "19         Transfer  Spayed Female   1636   8820  0.185488\n",
      "20             Died        Unknown     25   1093  0.022873\n",
      "21       Euthanasia        Unknown    101   1093  0.092406\n",
      "22  Return_to_owner        Unknown     12   1093  0.010979\n",
      "23         Transfer        Unknown    955   1093  0.873742\n"
     ]
    }
   ],
   "source": [
    "SexuponOutcome_OutcomeType_percent = pivot_return_table(df_data,'SexuponOutcome')\n",
    "print(SexuponOutcome_OutcomeType_percent)"
   ]
  },
  {
   "cell_type": "code",
   "execution_count": 25,
   "metadata": {},
   "outputs": [
    {
     "data": {
      "text/plain": [
       "<matplotlib.axes._subplots.AxesSubplot at 0xc517da0>"
      ]
     },
     "execution_count": 25,
     "metadata": {},
     "output_type": "execute_result"
    },
    {
     "data": {
      "image/png": "[encoded data removed]",
      "text/plain": [
       "<Figure size 1080x360 with 1 Axes>"
      ]
     },
     "metadata": {},
     "output_type": "display_data"
    }
   ],
   "source": [
    "SexuponOutcome_OutcomeType_percent.pivot(index='OutcomeType',columns = 'SexuponOutcome', values='Percent').plot(kind='bar',figsize=(15, 5))"
   ]
  },
  {
   "cell_type": "markdown",
   "metadata": {},
   "source": [
    "Does the absence of a name affect on OutcomeType"
   ]
  },
  {
   "cell_type": "code",
   "execution_count": 26,
   "metadata": {},
   "outputs": [
    {
     "data": {
      "text/html": [
       "<div>\n",
       "<style scoped>\n",
       "    .dataframe tbody tr th:only-of-type {\n",
       "        vertical-align: middle;\n",
       "    }\n",
       "\n",
       "    .dataframe tbody tr th {\n",
       "        vertical-align: top;\n",
       "    }\n",
       "\n",
       "    .dataframe thead th {\n",
       "        text-align: right;\n",
       "    }\n",
       "</style>\n",
       "<table border=\"1\" class=\"dataframe\">\n",
       "  <thead>\n",
       "    <tr style=\"text-align: right;\">\n",
       "      <th></th>\n",
       "      <th>AnimalID</th>\n",
       "      <th>Name</th>\n",
       "      <th>OutcomeType</th>\n",
       "      <th>OutcomeSubtype</th>\n",
       "      <th>AnimalType</th>\n",
       "      <th>SexuponOutcome</th>\n",
       "      <th>AgeuponOutcome</th>\n",
       "      <th>Breed</th>\n",
       "      <th>Color</th>\n",
       "      <th>age</th>\n",
       "      <th>age-range</th>\n",
       "      <th>Nan_name</th>\n",
       "    </tr>\n",
       "    <tr>\n",
       "      <th>DateTime</th>\n",
       "      <th></th>\n",
       "      <th></th>\n",
       "      <th></th>\n",
       "      <th></th>\n",
       "      <th></th>\n",
       "      <th></th>\n",
       "      <th></th>\n",
       "      <th></th>\n",
       "      <th></th>\n",
       "      <th></th>\n",
       "      <th></th>\n",
       "      <th></th>\n",
       "    </tr>\n",
       "  </thead>\n",
       "  <tbody>\n",
       "    <tr>\n",
       "      <th>2014-02-12 18:22:00</th>\n",
       "      <td>A671945</td>\n",
       "      <td>Hambone</td>\n",
       "      <td>Return_to_owner</td>\n",
       "      <td>NaN</td>\n",
       "      <td>Dog</td>\n",
       "      <td>Neutered Male</td>\n",
       "      <td>1 year</td>\n",
       "      <td>Shetland Sheepdog Mix</td>\n",
       "      <td>Brown/White</td>\n",
       "      <td>365.0</td>\n",
       "      <td>6 month-1 year</td>\n",
       "      <td>False</td>\n",
       "    </tr>\n",
       "    <tr>\n",
       "      <th>2013-10-13 12:44:00</th>\n",
       "      <td>A656520</td>\n",
       "      <td>Emily</td>\n",
       "      <td>Euthanasia</td>\n",
       "      <td>Suffering</td>\n",
       "      <td>Cat</td>\n",
       "      <td>Spayed Female</td>\n",
       "      <td>1 year</td>\n",
       "      <td>Domestic Shorthair Mix</td>\n",
       "      <td>Cream Tabby</td>\n",
       "      <td>365.0</td>\n",
       "      <td>6 month-1 year</td>\n",
       "      <td>False</td>\n",
       "    </tr>\n",
       "    <tr>\n",
       "      <th>2015-01-31 12:28:00</th>\n",
       "      <td>A686464</td>\n",
       "      <td>Pearce</td>\n",
       "      <td>Adoption</td>\n",
       "      <td>Foster</td>\n",
       "      <td>Dog</td>\n",
       "      <td>Neutered Male</td>\n",
       "      <td>2 years</td>\n",
       "      <td>Pit Bull Mix</td>\n",
       "      <td>Blue/White</td>\n",
       "      <td>730.0</td>\n",
       "      <td>more then 1 year</td>\n",
       "      <td>False</td>\n",
       "    </tr>\n",
       "    <tr>\n",
       "      <th>2014-07-11 19:09:00</th>\n",
       "      <td>A683430</td>\n",
       "      <td>NaN</td>\n",
       "      <td>Transfer</td>\n",
       "      <td>Partner</td>\n",
       "      <td>Cat</td>\n",
       "      <td>Intact Male</td>\n",
       "      <td>3 weeks</td>\n",
       "      <td>Domestic Shorthair Mix</td>\n",
       "      <td>Blue Cream</td>\n",
       "      <td>21.0</td>\n",
       "      <td>1 month</td>\n",
       "      <td>True</td>\n",
       "    </tr>\n",
       "    <tr>\n",
       "      <th>2013-11-15 12:52:00</th>\n",
       "      <td>A667013</td>\n",
       "      <td>NaN</td>\n",
       "      <td>Transfer</td>\n",
       "      <td>Partner</td>\n",
       "      <td>Dog</td>\n",
       "      <td>Neutered Male</td>\n",
       "      <td>2 years</td>\n",
       "      <td>Lhasa Apso/Miniature Poodle</td>\n",
       "      <td>Tan</td>\n",
       "      <td>730.0</td>\n",
       "      <td>more then 1 year</td>\n",
       "      <td>True</td>\n",
       "    </tr>\n",
       "  </tbody>\n",
       "</table>\n",
       "</div>"
      ],
      "text/plain": [
       "                    AnimalID     Name   ...            age-range Nan_name\n",
       "DateTime                                ...                              \n",
       "2014-02-12 18:22:00  A671945  Hambone   ...       6 month-1 year    False\n",
       "2013-10-13 12:44:00  A656520    Emily   ...       6 month-1 year    False\n",
       "2015-01-31 12:28:00  A686464   Pearce   ...     more then 1 year    False\n",
       "2014-07-11 19:09:00  A683430      NaN   ...              1 month     True\n",
       "2013-11-15 12:52:00  A667013      NaN   ...     more then 1 year     True\n",
       "\n",
       "[5 rows x 12 columns]"
      ]
     },
     "execution_count": 26,
     "metadata": {},
     "output_type": "execute_result"
    }
   ],
   "source": [
    "df_data['Nan_name']=pd.isna(df_data['Name'])\n",
    "df_data.head()"
   ]
  },
  {
   "cell_type": "code",
   "execution_count": 27,
   "metadata": {},
   "outputs": [
    {
     "name": "stdout",
     "output_type": "stream",
     "text": [
      "       OutcomeType  Nan_name  Count  Total   Percent\n",
      "0         Adoption     False   9091  19038  0.477519\n",
      "1             Died     False     77  19038  0.004045\n",
      "2       Euthanasia     False    740  19038  0.038870\n",
      "3  Return_to_owner     False   4633  19038  0.243355\n",
      "4         Transfer     False   4497  19038  0.236212\n",
      "5         Adoption      True   1678   7691  0.218177\n",
      "6             Died      True    120   7691  0.015603\n",
      "7       Euthanasia      True    815   7691  0.105968\n",
      "8  Return_to_owner      True    153   7691  0.019893\n",
      "9         Transfer      True   4925   7691  0.640359\n"
     ]
    }
   ],
   "source": [
    "Nan_name_OutcomeType_percent = pivot_return_table(df_data,'Nan_name')\n",
    "print(Nan_name_OutcomeType_percent)"
   ]
  },
  {
   "cell_type": "code",
   "execution_count": 28,
   "metadata": {},
   "outputs": [
    {
     "data": {
      "text/plain": [
       "<matplotlib.axes._subplots.AxesSubplot at 0xc5af400>"
      ]
     },
     "execution_count": 28,
     "metadata": {},
     "output_type": "execute_result"
    },
    {
     "data": {
      "image/png": "[encoded data removed]",
      "text/plain": [
       "<Figure size 1080x360 with 1 Axes>"
      ]
     },
     "metadata": {},
     "output_type": "display_data"
    }
   ],
   "source": [
    "Nan_name_OutcomeType_percent.pivot(index='OutcomeType',columns = 'Nan_name', values='Percent').plot(kind='bar',figsize=(15, 5))"
   ]
  },
  {
   "cell_type": "markdown",
   "metadata": {},
   "source": [
    "Does the Mix of a color affect on OutcomeType"
   ]
  },
  {
   "cell_type": "code",
   "execution_count": 29,
   "metadata": {},
   "outputs": [],
   "source": [
    "df_data['Mix_color']=df_data['Color'].str.contains('/')\n",
    "#df_data.head()"
   ]
  },
  {
   "cell_type": "markdown",
   "metadata": {},
   "source": [
    "Finding AnimalType distribution by Year Month"
   ]
  },
  {
   "cell_type": "code",
   "execution_count": 30,
   "metadata": {},
   "outputs": [
    {
     "name": "stderr",
     "output_type": "stream",
     "text": [
      "C:\\ProgramData\\Anaconda3\\lib\\site-packages\\ipykernel_launcher.py:5: FutureWarning: how in .resample() is deprecated\n",
      "the new syntax is .resample(...).count()\n",
      "  \"\"\"\n"
     ]
    },
    {
     "data": {
      "text/plain": [
       "<matplotlib.axes._subplots.AxesSubplot at 0xc8e7fd0>"
      ]
     },
     "execution_count": 30,
     "metadata": {},
     "output_type": "execute_result"
    },
    {
     "data": {
      "image/png": "[encoded data removed]",
      "text/plain": [
       "<Figure size 1080x360 with 1 Axes>"
      ]
     },
     "metadata": {},
     "output_type": "display_data"
    }
   ],
   "source": [
    "#Color_OutcomeType_percent = pivot_return_table(df_data,'Mix_color')\n",
    "#print(Color_OutcomeType_percent)\n",
    "\n",
    "\n",
    "df_data['AnimalType'].resample('M', how = 'count').plot(figsize=(15, 5))\n"
   ]
  },
  {
   "cell_type": "markdown",
   "metadata": {},
   "source": [
    "מסקנה - ניתן לראות עונתיות בכמות החיות"
   ]
  },
  {
   "cell_type": "code",
   "execution_count": 31,
   "metadata": {},
   "outputs": [],
   "source": [
    "df_data.loc[:, 'Year'] = df_data.index.year"
   ]
  },
  {
   "cell_type": "code",
   "execution_count": 32,
   "metadata": {},
   "outputs": [],
   "source": [
    "df_data.loc[:, 'Month'] = df_data.index.month"
   ]
  },
  {
   "cell_type": "code",
   "execution_count": 33,
   "metadata": {},
   "outputs": [
    {
     "data": {
      "text/plain": [
       "<matplotlib.axes._subplots.AxesSubplot at 0xcbe0668>"
      ]
     },
     "execution_count": 33,
     "metadata": {},
     "output_type": "execute_result"
    },
    {
     "data": {
      "image/png": "[encoded data removed]",
      "text/plain": [
       "<Figure size 1080x360 with 1 Axes>"
      ]
     },
     "metadata": {},
     "output_type": "display_data"
    }
   ],
   "source": [
    "df_data.groupby(['Year','Month','AnimalType'])['AnimalType'].count().unstack().plot(figsize=(15, 5))"
   ]
  },
  {
   "cell_type": "markdown",
   "metadata": {},
   "source": [
    "מסקנה- אצל חתולים ישנה עונתיות מובהקת כמו כו ניתן לראות שאצל כלבים אין עונתיות"
   ]
  },
  {
   "cell_type": "code",
   "execution_count": 34,
   "metadata": {},
   "outputs": [
    {
     "data": {
      "text/plain": [
       "<matplotlib.axes._subplots.AxesSubplot at 0xcc48048>"
      ]
     },
     "execution_count": 34,
     "metadata": {},
     "output_type": "execute_result"
    },
    {
     "data": {
      "image/png": "[encoded data removed]",
      "text/plain": [
       "<Figure size 1080x360 with 1 Axes>"
      ]
     },
     "metadata": {},
     "output_type": "display_data"
    }
   ],
   "source": [
    "df_data.groupby(['Year','Month','OutcomeType'])['OutcomeType'].count().unstack().head().plot(figsize=(15, 5))"
   ]
  },
  {
   "cell_type": "code",
   "execution_count": 35,
   "metadata": {},
   "outputs": [
    {
     "data": {
      "text/plain": [
       "<matplotlib.axes._subplots.AxesSubplot at 0xd65abe0>"
      ]
     },
     "execution_count": 35,
     "metadata": {},
     "output_type": "execute_result"
    },
    {
     "data": {
      "image/png": "[encoded data removed]",
      "text/plain": [
       "<Figure size 1080x360 with 1 Axes>"
      ]
     },
     "metadata": {},
     "output_type": "display_data"
    }
   ],
   "source": [
    "df_data.loc[df_data['AnimalType']=='Dog'].groupby(['Year','Month','OutcomeType'])['OutcomeType'].count().unstack().head().plot(figsize=(15, 5))"
   ]
  },
  {
   "cell_type": "code",
   "execution_count": 36,
   "metadata": {},
   "outputs": [
    {
     "data": {
      "text/plain": [
       "<matplotlib.axes._subplots.AxesSubplot at 0xd51c240>"
      ]
     },
     "execution_count": 36,
     "metadata": {},
     "output_type": "execute_result"
    },
    {
     "data": {
      "image/png": "[encoded data removed]",
      "text/plain": [
       "<Figure size 1080x360 with 1 Axes>"
      ]
     },
     "metadata": {},
     "output_type": "display_data"
    }
   ],
   "source": [
    "df_data.loc[df_data['AnimalType']=='Cat'].groupby(['Year','Month','OutcomeType'])['OutcomeType'].count().unstack().head().plot(figsize=(15, 5))"
   ]
  },
  {
   "cell_type": "markdown",
   "metadata": {},
   "source": [
    "מסקנה - אין עונתיות במשתנה מטרה"
   ]
  },
  {
   "cell_type": "code",
   "execution_count": 37,
   "metadata": {},
   "outputs": [],
   "source": [
    "def get_sex(x):\n",
    "    x = str(x)\n",
    "    if x.find('Male') >= 0: return 'male'\n",
    "    if x.find('Female') >= 0: return 'female'\n",
    "    return 'unknown'"
   ]
  },
  {
   "cell_type": "code",
   "execution_count": 38,
   "metadata": {},
   "outputs": [],
   "source": [
    "df_data['Sex']=df_data.SexuponOutcome.apply(get_sex)\n"
   ]
  },
  {
   "cell_type": "code",
   "execution_count": 39,
   "metadata": {},
   "outputs": [
    {
     "data": {
      "text/html": [
       "<div>\n",
       "<style scoped>\n",
       "    .dataframe tbody tr th:only-of-type {\n",
       "        vertical-align: middle;\n",
       "    }\n",
       "\n",
       "    .dataframe tbody tr th {\n",
       "        vertical-align: top;\n",
       "    }\n",
       "\n",
       "    .dataframe thead th {\n",
       "        text-align: right;\n",
       "    }\n",
       "</style>\n",
       "<table border=\"1\" class=\"dataframe\">\n",
       "  <thead>\n",
       "    <tr style=\"text-align: right;\">\n",
       "      <th>Sex</th>\n",
       "      <th>female</th>\n",
       "      <th>male</th>\n",
       "      <th>unknown</th>\n",
       "    </tr>\n",
       "    <tr>\n",
       "      <th>OutcomeType</th>\n",
       "      <th></th>\n",
       "      <th></th>\n",
       "      <th></th>\n",
       "    </tr>\n",
       "  </thead>\n",
       "  <tbody>\n",
       "    <tr>\n",
       "      <th>Adoption</th>\n",
       "      <td>5389.0</td>\n",
       "      <td>5380.0</td>\n",
       "      <td>NaN</td>\n",
       "    </tr>\n",
       "    <tr>\n",
       "      <th>Died</th>\n",
       "      <td>74.0</td>\n",
       "      <td>98.0</td>\n",
       "      <td>25.0</td>\n",
       "    </tr>\n",
       "    <tr>\n",
       "      <th>Euthanasia</th>\n",
       "      <td>633.0</td>\n",
       "      <td>821.0</td>\n",
       "      <td>101.0</td>\n",
       "    </tr>\n",
       "    <tr>\n",
       "      <th>Return_to_owner</th>\n",
       "      <td>2049.0</td>\n",
       "      <td>2724.0</td>\n",
       "      <td>13.0</td>\n",
       "    </tr>\n",
       "    <tr>\n",
       "      <th>Transfer</th>\n",
       "      <td>4186.0</td>\n",
       "      <td>4281.0</td>\n",
       "      <td>955.0</td>\n",
       "    </tr>\n",
       "  </tbody>\n",
       "</table>\n",
       "</div>"
      ],
      "text/plain": [
       "Sex              female    male  unknown\n",
       "OutcomeType                             \n",
       "Adoption         5389.0  5380.0      NaN\n",
       "Died               74.0    98.0     25.0\n",
       "Euthanasia        633.0   821.0    101.0\n",
       "Return_to_owner  2049.0  2724.0     13.0\n",
       "Transfer         4186.0  4281.0    955.0"
      ]
     },
     "execution_count": 39,
     "metadata": {},
     "output_type": "execute_result"
    }
   ],
   "source": [
    "df_data.groupby(['OutcomeType','Sex'])['Sex'].count().unstack()"
   ]
  },
  {
   "cell_type": "code",
   "execution_count": 40,
   "metadata": {},
   "outputs": [],
   "source": [
    "Sex_OutcomeType_percent = pivot_return_table(df_data,'Sex')\n",
    "#print(Sex_OutcomeType_percent)"
   ]
  },
  {
   "cell_type": "code",
   "execution_count": 41,
   "metadata": {},
   "outputs": [
    {
     "data": {
      "text/html": [
       "<div>\n",
       "<style scoped>\n",
       "    .dataframe tbody tr th:only-of-type {\n",
       "        vertical-align: middle;\n",
       "    }\n",
       "\n",
       "    .dataframe tbody tr th {\n",
       "        vertical-align: top;\n",
       "    }\n",
       "\n",
       "    .dataframe thead th {\n",
       "        text-align: right;\n",
       "    }\n",
       "</style>\n",
       "<table border=\"1\" class=\"dataframe\">\n",
       "  <thead>\n",
       "    <tr style=\"text-align: right;\">\n",
       "      <th>Sex</th>\n",
       "      <th>female</th>\n",
       "      <th>male</th>\n",
       "      <th>unknown</th>\n",
       "    </tr>\n",
       "    <tr>\n",
       "      <th>OutcomeType</th>\n",
       "      <th></th>\n",
       "      <th></th>\n",
       "      <th></th>\n",
       "    </tr>\n",
       "  </thead>\n",
       "  <tbody>\n",
       "    <tr>\n",
       "      <th>Adoption</th>\n",
       "      <td>0.437029</td>\n",
       "      <td>0.404390</td>\n",
       "      <td>NaN</td>\n",
       "    </tr>\n",
       "    <tr>\n",
       "      <th>Died</th>\n",
       "      <td>0.006001</td>\n",
       "      <td>0.007366</td>\n",
       "      <td>0.022852</td>\n",
       "    </tr>\n",
       "    <tr>\n",
       "      <th>Euthanasia</th>\n",
       "      <td>0.051334</td>\n",
       "      <td>0.061711</td>\n",
       "      <td>0.092322</td>\n",
       "    </tr>\n",
       "    <tr>\n",
       "      <th>Return_to_owner</th>\n",
       "      <td>0.166167</td>\n",
       "      <td>0.204750</td>\n",
       "      <td>0.011883</td>\n",
       "    </tr>\n",
       "    <tr>\n",
       "      <th>Transfer</th>\n",
       "      <td>0.339470</td>\n",
       "      <td>0.321783</td>\n",
       "      <td>0.872943</td>\n",
       "    </tr>\n",
       "  </tbody>\n",
       "</table>\n",
       "</div>"
      ],
      "text/plain": [
       "Sex                female      male   unknown\n",
       "OutcomeType                                  \n",
       "Adoption         0.437029  0.404390       NaN\n",
       "Died             0.006001  0.007366  0.022852\n",
       "Euthanasia       0.051334  0.061711  0.092322\n",
       "Return_to_owner  0.166167  0.204750  0.011883\n",
       "Transfer         0.339470  0.321783  0.872943"
      ]
     },
     "execution_count": 41,
     "metadata": {},
     "output_type": "execute_result"
    }
   ],
   "source": [
    "Sex_OutcomeType_percent.loc[:,['OutcomeType','Sex','Percent']].groupby(['OutcomeType','Sex'])['Percent'].sum().unstack()"
   ]
  },
  {
   "cell_type": "code",
   "execution_count": 42,
   "metadata": {},
   "outputs": [
    {
     "data": {
      "text/plain": [
       "<matplotlib.axes._subplots.AxesSubplot at 0xd5c0518>"
      ]
     },
     "execution_count": 42,
     "metadata": {},
     "output_type": "execute_result"
    },
    {
     "data": {
      "image/png": "[encoded data removed]",
      "text/plain": [
       "<Figure size 1080x360 with 1 Axes>"
      ]
     },
     "metadata": {},
     "output_type": "display_data"
    }
   ],
   "source": [
    "Sex_OutcomeType_percent.loc[:,['OutcomeType','Sex','Percent']].groupby(['OutcomeType','Sex'])['Percent'].sum().unstack().plot(kind='bar',figsize=(15, 5))"
   ]
  },
  {
   "cell_type": "markdown",
   "metadata": {},
   "source": [
    "מסקנה- אין חשיבות למין החיה"
   ]
  },
  {
   "cell_type": "markdown",
   "metadata": {},
   "source": [
    "### Constructing model variables:"
   ]
  },
  {
   "cell_type": "code",
   "execution_count": 43,
   "metadata": {},
   "outputs": [],
   "source": [
    "df_data['have_Name'] = pd.isna(df_data['Name'])"
   ]
  },
  {
   "cell_type": "code",
   "execution_count": 44,
   "metadata": {},
   "outputs": [],
   "source": [
    "def get_SexuponOutcome(x):\n",
    "    x = str(x)\n",
    "    if x.find('Neutered') >= 0: return 'Neutered'\n",
    "    if x.find('Spayed') >= 0: return 'Spayed'\n",
    "    if x.find('Intact') >= 0: return 'Intact'\n",
    "    return 'unknown'"
   ]
  },
  {
   "cell_type": "code",
   "execution_count": 45,
   "metadata": {},
   "outputs": [],
   "source": [
    "def get_AnimalType(x):\n",
    "    if x=='Dog': return 1\n",
    "    return 0"
   ]
  },
  {
   "cell_type": "code",
   "execution_count": 46,
   "metadata": {},
   "outputs": [],
   "source": [
    "df_data['uponOutcome'] =df_data['SexuponOutcome'].apply(get_SexuponOutcome)"
   ]
  },
  {
   "cell_type": "markdown",
   "metadata": {},
   "source": [
    "# PART 2"
   ]
  },
  {
   "cell_type": "raw",
   "metadata": {},
   "source": [
    " חלק ב' - הכנת הנתונים ויצירת מודלים\n",
    "•\tהתנסות, בחירה ויישום (על-פי צורך) של תהליכי הכנת ומיצוי נתונים (ניקוי, אגרגציה, נירמול, טרנספורמציות וכיוצ\"ב). שלב זה הינו המשך ישיר של שהתוצרים שלכם מחלק א'.\n",
    "•\tיצירת תשתית שתקל על הכנת נתונים ובדיקת מודלים נוספים (מומלץ להיעזר ב-Pipeline, אבל לא חובה)\n",
    "•\tיצירת מודלים\n",
    "o\tהרצה של לפחות 2 מודלים שונים\n",
    "o\tלפחות אחד המודלים שבחרתם יש להריץ עם פרמטרים שונים ומציאת פרמטרים אופטימליים\n",
    "o\tבדיקת המודלים ובחירה של מודל אחד\n",
    "o\tהבנה והסבר של תוצאות המודל\n"
   ]
  },
  {
   "cell_type": "code",
   "execution_count": 72,
   "metadata": {},
   "outputs": [],
   "source": [
    "\n",
    "from pandas import read_csv\n",
    "\n",
    "from sklearn.neighbors import KNeighborsClassifier\n",
    "from sklearn.datasets import load_iris\n",
    "from sklearn.decomposition import PCA\n",
    "from sklearn.preprocessing import StandardScaler\n",
    "from sklearn.model_selection import train_test_split\n",
    "import matplotlib.pyplot as plt\n",
    "from itertools import combinations\n",
    "from sklearn.metrics import confusion_matrix, classification_report, accuracy_score\n",
    "from sklearn.linear_model import LogisticRegression,LinearRegression\n",
    "from sklearn.model_selection import train_test_split as split\n",
    "from sklearn.ensemble import AdaBoostClassifier,VotingClassifier, BaggingClassifier\n",
    "from sklearn.tree import DecisionTreeClassifier\n",
    "from sklearn.datasets import make_gaussian_quantiles\n",
    "from sklearn.svm import SVC, LinearSVC \n",
    "from sklearn.pipeline import Pipeline\n",
    "import pandas as pd\n",
    "import numpy as np\n",
    "import warnings\n",
    "\n",
    "warnings.filterwarnings('ignore')\n",
    "%matplotlib inline"
   ]
  },
  {
   "cell_type": "code",
   "execution_count": 48,
   "metadata": {},
   "outputs": [
    {
     "data": {
      "text/html": [
       "<div>\n",
       "<style scoped>\n",
       "    .dataframe tbody tr th:only-of-type {\n",
       "        vertical-align: middle;\n",
       "    }\n",
       "\n",
       "    .dataframe tbody tr th {\n",
       "        vertical-align: top;\n",
       "    }\n",
       "\n",
       "    .dataframe thead th {\n",
       "        text-align: right;\n",
       "    }\n",
       "</style>\n",
       "<table border=\"1\" class=\"dataframe\">\n",
       "  <thead>\n",
       "    <tr style=\"text-align: right;\">\n",
       "      <th></th>\n",
       "      <th>AnimalID</th>\n",
       "      <th>Name</th>\n",
       "      <th>OutcomeType</th>\n",
       "      <th>OutcomeSubtype</th>\n",
       "      <th>AnimalType</th>\n",
       "      <th>SexuponOutcome</th>\n",
       "      <th>AgeuponOutcome</th>\n",
       "      <th>Breed</th>\n",
       "      <th>Color</th>\n",
       "      <th>age</th>\n",
       "      <th>age-range</th>\n",
       "      <th>Nan_name</th>\n",
       "      <th>Mix_color</th>\n",
       "      <th>Year</th>\n",
       "      <th>Month</th>\n",
       "      <th>Sex</th>\n",
       "      <th>have_Name</th>\n",
       "      <th>uponOutcome</th>\n",
       "    </tr>\n",
       "    <tr>\n",
       "      <th>DateTime</th>\n",
       "      <th></th>\n",
       "      <th></th>\n",
       "      <th></th>\n",
       "      <th></th>\n",
       "      <th></th>\n",
       "      <th></th>\n",
       "      <th></th>\n",
       "      <th></th>\n",
       "      <th></th>\n",
       "      <th></th>\n",
       "      <th></th>\n",
       "      <th></th>\n",
       "      <th></th>\n",
       "      <th></th>\n",
       "      <th></th>\n",
       "      <th></th>\n",
       "      <th></th>\n",
       "      <th></th>\n",
       "    </tr>\n",
       "  </thead>\n",
       "  <tbody>\n",
       "    <tr>\n",
       "      <th>2014-02-12 18:22:00</th>\n",
       "      <td>A671945</td>\n",
       "      <td>Hambone</td>\n",
       "      <td>Return_to_owner</td>\n",
       "      <td>NaN</td>\n",
       "      <td>Dog</td>\n",
       "      <td>Neutered Male</td>\n",
       "      <td>1 year</td>\n",
       "      <td>Shetland Sheepdog Mix</td>\n",
       "      <td>Brown/White</td>\n",
       "      <td>365.0</td>\n",
       "      <td>6 month-1 year</td>\n",
       "      <td>False</td>\n",
       "      <td>True</td>\n",
       "      <td>2014</td>\n",
       "      <td>2</td>\n",
       "      <td>male</td>\n",
       "      <td>False</td>\n",
       "      <td>Neutered</td>\n",
       "    </tr>\n",
       "    <tr>\n",
       "      <th>2013-10-13 12:44:00</th>\n",
       "      <td>A656520</td>\n",
       "      <td>Emily</td>\n",
       "      <td>Euthanasia</td>\n",
       "      <td>Suffering</td>\n",
       "      <td>Cat</td>\n",
       "      <td>Spayed Female</td>\n",
       "      <td>1 year</td>\n",
       "      <td>Domestic Shorthair Mix</td>\n",
       "      <td>Cream Tabby</td>\n",
       "      <td>365.0</td>\n",
       "      <td>6 month-1 year</td>\n",
       "      <td>False</td>\n",
       "      <td>False</td>\n",
       "      <td>2013</td>\n",
       "      <td>10</td>\n",
       "      <td>female</td>\n",
       "      <td>False</td>\n",
       "      <td>Spayed</td>\n",
       "    </tr>\n",
       "    <tr>\n",
       "      <th>2015-01-31 12:28:00</th>\n",
       "      <td>A686464</td>\n",
       "      <td>Pearce</td>\n",
       "      <td>Adoption</td>\n",
       "      <td>Foster</td>\n",
       "      <td>Dog</td>\n",
       "      <td>Neutered Male</td>\n",
       "      <td>2 years</td>\n",
       "      <td>Pit Bull Mix</td>\n",
       "      <td>Blue/White</td>\n",
       "      <td>730.0</td>\n",
       "      <td>more then 1 year</td>\n",
       "      <td>False</td>\n",
       "      <td>True</td>\n",
       "      <td>2015</td>\n",
       "      <td>1</td>\n",
       "      <td>male</td>\n",
       "      <td>False</td>\n",
       "      <td>Neutered</td>\n",
       "    </tr>\n",
       "    <tr>\n",
       "      <th>2014-07-11 19:09:00</th>\n",
       "      <td>A683430</td>\n",
       "      <td>NaN</td>\n",
       "      <td>Transfer</td>\n",
       "      <td>Partner</td>\n",
       "      <td>Cat</td>\n",
       "      <td>Intact Male</td>\n",
       "      <td>3 weeks</td>\n",
       "      <td>Domestic Shorthair Mix</td>\n",
       "      <td>Blue Cream</td>\n",
       "      <td>21.0</td>\n",
       "      <td>1 month</td>\n",
       "      <td>True</td>\n",
       "      <td>False</td>\n",
       "      <td>2014</td>\n",
       "      <td>7</td>\n",
       "      <td>male</td>\n",
       "      <td>True</td>\n",
       "      <td>Intact</td>\n",
       "    </tr>\n",
       "    <tr>\n",
       "      <th>2013-11-15 12:52:00</th>\n",
       "      <td>A667013</td>\n",
       "      <td>NaN</td>\n",
       "      <td>Transfer</td>\n",
       "      <td>Partner</td>\n",
       "      <td>Dog</td>\n",
       "      <td>Neutered Male</td>\n",
       "      <td>2 years</td>\n",
       "      <td>Lhasa Apso/Miniature Poodle</td>\n",
       "      <td>Tan</td>\n",
       "      <td>730.0</td>\n",
       "      <td>more then 1 year</td>\n",
       "      <td>True</td>\n",
       "      <td>False</td>\n",
       "      <td>2013</td>\n",
       "      <td>11</td>\n",
       "      <td>male</td>\n",
       "      <td>True</td>\n",
       "      <td>Neutered</td>\n",
       "    </tr>\n",
       "  </tbody>\n",
       "</table>\n",
       "</div>"
      ],
      "text/plain": [
       "                    AnimalID     Name     ...     have_Name uponOutcome\n",
       "DateTime                                  ...                          \n",
       "2014-02-12 18:22:00  A671945  Hambone     ...         False    Neutered\n",
       "2013-10-13 12:44:00  A656520    Emily     ...         False      Spayed\n",
       "2015-01-31 12:28:00  A686464   Pearce     ...         False    Neutered\n",
       "2014-07-11 19:09:00  A683430      NaN     ...          True      Intact\n",
       "2013-11-15 12:52:00  A667013      NaN     ...          True    Neutered\n",
       "\n",
       "[5 rows x 18 columns]"
      ]
     },
     "execution_count": 48,
     "metadata": {},
     "output_type": "execute_result"
    }
   ],
   "source": [
    "df_data.head()"
   ]
  },
  {
   "cell_type": "code",
   "execution_count": 49,
   "metadata": {},
   "outputs": [],
   "source": [
    "model_data = df_data.drop(['age','AnimalID','Name','OutcomeSubtype','AgeuponOutcome','Breed','SexuponOutcome','Year','Month'],axis=1)\n",
    "model_data=model_data.reset_index()\n",
    "model_data = model_data.drop(['DateTime'],axis=1)"
   ]
  },
  {
   "cell_type": "code",
   "execution_count": 50,
   "metadata": {},
   "outputs": [
    {
     "data": {
      "text/html": [
       "<div>\n",
       "<style scoped>\n",
       "    .dataframe tbody tr th:only-of-type {\n",
       "        vertical-align: middle;\n",
       "    }\n",
       "\n",
       "    .dataframe tbody tr th {\n",
       "        vertical-align: top;\n",
       "    }\n",
       "\n",
       "    .dataframe thead th {\n",
       "        text-align: right;\n",
       "    }\n",
       "</style>\n",
       "<table border=\"1\" class=\"dataframe\">\n",
       "  <thead>\n",
       "    <tr style=\"text-align: right;\">\n",
       "      <th></th>\n",
       "      <th>OutcomeType</th>\n",
       "      <th>AnimalType</th>\n",
       "      <th>Color</th>\n",
       "      <th>age-range</th>\n",
       "      <th>Nan_name</th>\n",
       "      <th>Mix_color</th>\n",
       "      <th>Sex</th>\n",
       "      <th>have_Name</th>\n",
       "      <th>uponOutcome</th>\n",
       "    </tr>\n",
       "  </thead>\n",
       "  <tbody>\n",
       "    <tr>\n",
       "      <th>0</th>\n",
       "      <td>Return_to_owner</td>\n",
       "      <td>Dog</td>\n",
       "      <td>Brown/White</td>\n",
       "      <td>6 month-1 year</td>\n",
       "      <td>False</td>\n",
       "      <td>True</td>\n",
       "      <td>male</td>\n",
       "      <td>False</td>\n",
       "      <td>Neutered</td>\n",
       "    </tr>\n",
       "    <tr>\n",
       "      <th>1</th>\n",
       "      <td>Euthanasia</td>\n",
       "      <td>Cat</td>\n",
       "      <td>Cream Tabby</td>\n",
       "      <td>6 month-1 year</td>\n",
       "      <td>False</td>\n",
       "      <td>False</td>\n",
       "      <td>female</td>\n",
       "      <td>False</td>\n",
       "      <td>Spayed</td>\n",
       "    </tr>\n",
       "    <tr>\n",
       "      <th>2</th>\n",
       "      <td>Adoption</td>\n",
       "      <td>Dog</td>\n",
       "      <td>Blue/White</td>\n",
       "      <td>more then 1 year</td>\n",
       "      <td>False</td>\n",
       "      <td>True</td>\n",
       "      <td>male</td>\n",
       "      <td>False</td>\n",
       "      <td>Neutered</td>\n",
       "    </tr>\n",
       "    <tr>\n",
       "      <th>3</th>\n",
       "      <td>Transfer</td>\n",
       "      <td>Cat</td>\n",
       "      <td>Blue Cream</td>\n",
       "      <td>1 month</td>\n",
       "      <td>True</td>\n",
       "      <td>False</td>\n",
       "      <td>male</td>\n",
       "      <td>True</td>\n",
       "      <td>Intact</td>\n",
       "    </tr>\n",
       "    <tr>\n",
       "      <th>4</th>\n",
       "      <td>Transfer</td>\n",
       "      <td>Dog</td>\n",
       "      <td>Tan</td>\n",
       "      <td>more then 1 year</td>\n",
       "      <td>True</td>\n",
       "      <td>False</td>\n",
       "      <td>male</td>\n",
       "      <td>True</td>\n",
       "      <td>Neutered</td>\n",
       "    </tr>\n",
       "  </tbody>\n",
       "</table>\n",
       "</div>"
      ],
      "text/plain": [
       "       OutcomeType AnimalType     ...     have_Name uponOutcome\n",
       "0  Return_to_owner        Dog     ...         False    Neutered\n",
       "1       Euthanasia        Cat     ...         False      Spayed\n",
       "2         Adoption        Dog     ...         False    Neutered\n",
       "3         Transfer        Cat     ...          True      Intact\n",
       "4         Transfer        Dog     ...          True    Neutered\n",
       "\n",
       "[5 rows x 9 columns]"
      ]
     },
     "execution_count": 50,
     "metadata": {},
     "output_type": "execute_result"
    }
   ],
   "source": [
    "model_data.head()"
   ]
  },
  {
   "cell_type": "code",
   "execution_count": 51,
   "metadata": {},
   "outputs": [],
   "source": [
    "model_data['AnimalType_1']= model_data['AnimalType'].apply(get_AnimalType) \n",
    "    "
   ]
  },
  {
   "cell_type": "code",
   "execution_count": 52,
   "metadata": {},
   "outputs": [
    {
     "data": {
      "text/html": [
       "<div>\n",
       "<style scoped>\n",
       "    .dataframe tbody tr th:only-of-type {\n",
       "        vertical-align: middle;\n",
       "    }\n",
       "\n",
       "    .dataframe tbody tr th {\n",
       "        vertical-align: top;\n",
       "    }\n",
       "\n",
       "    .dataframe thead th {\n",
       "        text-align: right;\n",
       "    }\n",
       "</style>\n",
       "<table border=\"1\" class=\"dataframe\">\n",
       "  <thead>\n",
       "    <tr style=\"text-align: right;\">\n",
       "      <th></th>\n",
       "      <th>OutcomeType</th>\n",
       "      <th>AnimalType</th>\n",
       "      <th>Nan_name</th>\n",
       "      <th>AnimalType_1</th>\n",
       "      <th>Color_Agouti</th>\n",
       "      <th>Color_Agouti/Brown Tabby</th>\n",
       "      <th>Color_Apricot</th>\n",
       "      <th>Color_Apricot/Brown</th>\n",
       "      <th>Color_Apricot/White</th>\n",
       "      <th>Color_Black</th>\n",
       "      <th>Color_Black Brindle</th>\n",
       "      <th>Color_Black Brindle/Black</th>\n",
       "      <th>Color_Black Brindle/Brown</th>\n",
       "      <th>Color_Black Brindle/Brown Brindle</th>\n",
       "      <th>Color_Black Brindle/White</th>\n",
       "      <th>Color_Black Smoke</th>\n",
       "      <th>Color_Black Smoke/Brown Tabby</th>\n",
       "      <th>Color_Black Smoke/White</th>\n",
       "      <th>Color_Black Tabby</th>\n",
       "      <th>Color_Black Tabby/Orange</th>\n",
       "      <th>Color_Black Tabby/White</th>\n",
       "      <th>Color_Black Tiger/White</th>\n",
       "      <th>Color_Black/Black</th>\n",
       "      <th>Color_Black/Black Brindle</th>\n",
       "      <th>Color_Black/Black Smoke</th>\n",
       "      <th>Color_Black/Black Tabby</th>\n",
       "      <th>Color_Black/Blue</th>\n",
       "      <th>Color_Black/Blue Merle</th>\n",
       "      <th>Color_Black/Blue Tick</th>\n",
       "      <th>Color_Black/Brown</th>\n",
       "      <th>Color_Black/Brown Brindle</th>\n",
       "      <th>Color_Black/Brown Merle</th>\n",
       "      <th>Color_Black/Buff</th>\n",
       "      <th>Color_Black/Chocolate</th>\n",
       "      <th>Color_Black/Cream</th>\n",
       "      <th>Color_Black/Gray</th>\n",
       "      <th>Color_Black/Orange</th>\n",
       "      <th>Color_Black/Red</th>\n",
       "      <th>Color_Black/Silver</th>\n",
       "      <th>Color_Black/Silver Tabby</th>\n",
       "      <th>...</th>\n",
       "      <th>Color_White/Gold</th>\n",
       "      <th>Color_White/Gray</th>\n",
       "      <th>Color_White/Gray Tabby</th>\n",
       "      <th>Color_White/Liver</th>\n",
       "      <th>Color_White/Lynx Point</th>\n",
       "      <th>Color_White/Orange</th>\n",
       "      <th>Color_White/Orange Tabby</th>\n",
       "      <th>Color_White/Pink</th>\n",
       "      <th>Color_White/Red</th>\n",
       "      <th>Color_White/Red Merle</th>\n",
       "      <th>Color_White/Red Tick</th>\n",
       "      <th>Color_White/Silver</th>\n",
       "      <th>Color_White/Tan</th>\n",
       "      <th>Color_White/Tricolor</th>\n",
       "      <th>Color_White/White</th>\n",
       "      <th>Color_White/Yellow</th>\n",
       "      <th>Color_White/Yellow Brindle</th>\n",
       "      <th>Color_Yellow</th>\n",
       "      <th>Color_Yellow Brindle</th>\n",
       "      <th>Color_Yellow Brindle/Blue</th>\n",
       "      <th>Color_Yellow Brindle/Tan</th>\n",
       "      <th>Color_Yellow Brindle/White</th>\n",
       "      <th>Color_Yellow/Black</th>\n",
       "      <th>Color_Yellow/White</th>\n",
       "      <th>Color_Yellow/Yellow</th>\n",
       "      <th>age-range_1 month</th>\n",
       "      <th>age-range_6 month-1 year</th>\n",
       "      <th>age-range_month - 6 month</th>\n",
       "      <th>age-range_more then 1 year</th>\n",
       "      <th>Mix_color_False</th>\n",
       "      <th>Mix_color_True</th>\n",
       "      <th>Sex_female</th>\n",
       "      <th>Sex_male</th>\n",
       "      <th>Sex_unknown</th>\n",
       "      <th>have_Name_False</th>\n",
       "      <th>have_Name_True</th>\n",
       "      <th>uponOutcome_Intact</th>\n",
       "      <th>uponOutcome_Neutered</th>\n",
       "      <th>uponOutcome_Spayed</th>\n",
       "      <th>uponOutcome_unknown</th>\n",
       "    </tr>\n",
       "  </thead>\n",
       "  <tbody>\n",
       "    <tr>\n",
       "      <th>0</th>\n",
       "      <td>Return_to_owner</td>\n",
       "      <td>Dog</td>\n",
       "      <td>False</td>\n",
       "      <td>1</td>\n",
       "      <td>0</td>\n",
       "      <td>0</td>\n",
       "      <td>0</td>\n",
       "      <td>0</td>\n",
       "      <td>0</td>\n",
       "      <td>0</td>\n",
       "      <td>0</td>\n",
       "      <td>0</td>\n",
       "      <td>0</td>\n",
       "      <td>0</td>\n",
       "      <td>0</td>\n",
       "      <td>0</td>\n",
       "      <td>0</td>\n",
       "      <td>0</td>\n",
       "      <td>0</td>\n",
       "      <td>0</td>\n",
       "      <td>0</td>\n",
       "      <td>0</td>\n",
       "      <td>0</td>\n",
       "      <td>0</td>\n",
       "      <td>0</td>\n",
       "      <td>0</td>\n",
       "      <td>0</td>\n",
       "      <td>0</td>\n",
       "      <td>0</td>\n",
       "      <td>0</td>\n",
       "      <td>0</td>\n",
       "      <td>0</td>\n",
       "      <td>0</td>\n",
       "      <td>0</td>\n",
       "      <td>0</td>\n",
       "      <td>0</td>\n",
       "      <td>0</td>\n",
       "      <td>0</td>\n",
       "      <td>0</td>\n",
       "      <td>0</td>\n",
       "      <td>...</td>\n",
       "      <td>0</td>\n",
       "      <td>0</td>\n",
       "      <td>0</td>\n",
       "      <td>0</td>\n",
       "      <td>0</td>\n",
       "      <td>0</td>\n",
       "      <td>0</td>\n",
       "      <td>0</td>\n",
       "      <td>0</td>\n",
       "      <td>0</td>\n",
       "      <td>0</td>\n",
       "      <td>0</td>\n",
       "      <td>0</td>\n",
       "      <td>0</td>\n",
       "      <td>0</td>\n",
       "      <td>0</td>\n",
       "      <td>0</td>\n",
       "      <td>0</td>\n",
       "      <td>0</td>\n",
       "      <td>0</td>\n",
       "      <td>0</td>\n",
       "      <td>0</td>\n",
       "      <td>0</td>\n",
       "      <td>0</td>\n",
       "      <td>0</td>\n",
       "      <td>0</td>\n",
       "      <td>1</td>\n",
       "      <td>0</td>\n",
       "      <td>0</td>\n",
       "      <td>0</td>\n",
       "      <td>1</td>\n",
       "      <td>0</td>\n",
       "      <td>1</td>\n",
       "      <td>0</td>\n",
       "      <td>1</td>\n",
       "      <td>0</td>\n",
       "      <td>0</td>\n",
       "      <td>1</td>\n",
       "      <td>0</td>\n",
       "      <td>0</td>\n",
       "    </tr>\n",
       "    <tr>\n",
       "      <th>1</th>\n",
       "      <td>Euthanasia</td>\n",
       "      <td>Cat</td>\n",
       "      <td>False</td>\n",
       "      <td>0</td>\n",
       "      <td>0</td>\n",
       "      <td>0</td>\n",
       "      <td>0</td>\n",
       "      <td>0</td>\n",
       "      <td>0</td>\n",
       "      <td>0</td>\n",
       "      <td>0</td>\n",
       "      <td>0</td>\n",
       "      <td>0</td>\n",
       "      <td>0</td>\n",
       "      <td>0</td>\n",
       "      <td>0</td>\n",
       "      <td>0</td>\n",
       "      <td>0</td>\n",
       "      <td>0</td>\n",
       "      <td>0</td>\n",
       "      <td>0</td>\n",
       "      <td>0</td>\n",
       "      <td>0</td>\n",
       "      <td>0</td>\n",
       "      <td>0</td>\n",
       "      <td>0</td>\n",
       "      <td>0</td>\n",
       "      <td>0</td>\n",
       "      <td>0</td>\n",
       "      <td>0</td>\n",
       "      <td>0</td>\n",
       "      <td>0</td>\n",
       "      <td>0</td>\n",
       "      <td>0</td>\n",
       "      <td>0</td>\n",
       "      <td>0</td>\n",
       "      <td>0</td>\n",
       "      <td>0</td>\n",
       "      <td>0</td>\n",
       "      <td>0</td>\n",
       "      <td>...</td>\n",
       "      <td>0</td>\n",
       "      <td>0</td>\n",
       "      <td>0</td>\n",
       "      <td>0</td>\n",
       "      <td>0</td>\n",
       "      <td>0</td>\n",
       "      <td>0</td>\n",
       "      <td>0</td>\n",
       "      <td>0</td>\n",
       "      <td>0</td>\n",
       "      <td>0</td>\n",
       "      <td>0</td>\n",
       "      <td>0</td>\n",
       "      <td>0</td>\n",
       "      <td>0</td>\n",
       "      <td>0</td>\n",
       "      <td>0</td>\n",
       "      <td>0</td>\n",
       "      <td>0</td>\n",
       "      <td>0</td>\n",
       "      <td>0</td>\n",
       "      <td>0</td>\n",
       "      <td>0</td>\n",
       "      <td>0</td>\n",
       "      <td>0</td>\n",
       "      <td>0</td>\n",
       "      <td>1</td>\n",
       "      <td>0</td>\n",
       "      <td>0</td>\n",
       "      <td>1</td>\n",
       "      <td>0</td>\n",
       "      <td>1</td>\n",
       "      <td>0</td>\n",
       "      <td>0</td>\n",
       "      <td>1</td>\n",
       "      <td>0</td>\n",
       "      <td>0</td>\n",
       "      <td>0</td>\n",
       "      <td>1</td>\n",
       "      <td>0</td>\n",
       "    </tr>\n",
       "    <tr>\n",
       "      <th>2</th>\n",
       "      <td>Adoption</td>\n",
       "      <td>Dog</td>\n",
       "      <td>False</td>\n",
       "      <td>1</td>\n",
       "      <td>0</td>\n",
       "      <td>0</td>\n",
       "      <td>0</td>\n",
       "      <td>0</td>\n",
       "      <td>0</td>\n",
       "      <td>0</td>\n",
       "      <td>0</td>\n",
       "      <td>0</td>\n",
       "      <td>0</td>\n",
       "      <td>0</td>\n",
       "      <td>0</td>\n",
       "      <td>0</td>\n",
       "      <td>0</td>\n",
       "      <td>0</td>\n",
       "      <td>0</td>\n",
       "      <td>0</td>\n",
       "      <td>0</td>\n",
       "      <td>0</td>\n",
       "      <td>0</td>\n",
       "      <td>0</td>\n",
       "      <td>0</td>\n",
       "      <td>0</td>\n",
       "      <td>0</td>\n",
       "      <td>0</td>\n",
       "      <td>0</td>\n",
       "      <td>0</td>\n",
       "      <td>0</td>\n",
       "      <td>0</td>\n",
       "      <td>0</td>\n",
       "      <td>0</td>\n",
       "      <td>0</td>\n",
       "      <td>0</td>\n",
       "      <td>0</td>\n",
       "      <td>0</td>\n",
       "      <td>0</td>\n",
       "      <td>0</td>\n",
       "      <td>...</td>\n",
       "      <td>0</td>\n",
       "      <td>0</td>\n",
       "      <td>0</td>\n",
       "      <td>0</td>\n",
       "      <td>0</td>\n",
       "      <td>0</td>\n",
       "      <td>0</td>\n",
       "      <td>0</td>\n",
       "      <td>0</td>\n",
       "      <td>0</td>\n",
       "      <td>0</td>\n",
       "      <td>0</td>\n",
       "      <td>0</td>\n",
       "      <td>0</td>\n",
       "      <td>0</td>\n",
       "      <td>0</td>\n",
       "      <td>0</td>\n",
       "      <td>0</td>\n",
       "      <td>0</td>\n",
       "      <td>0</td>\n",
       "      <td>0</td>\n",
       "      <td>0</td>\n",
       "      <td>0</td>\n",
       "      <td>0</td>\n",
       "      <td>0</td>\n",
       "      <td>0</td>\n",
       "      <td>0</td>\n",
       "      <td>0</td>\n",
       "      <td>1</td>\n",
       "      <td>0</td>\n",
       "      <td>1</td>\n",
       "      <td>0</td>\n",
       "      <td>1</td>\n",
       "      <td>0</td>\n",
       "      <td>1</td>\n",
       "      <td>0</td>\n",
       "      <td>0</td>\n",
       "      <td>1</td>\n",
       "      <td>0</td>\n",
       "      <td>0</td>\n",
       "    </tr>\n",
       "    <tr>\n",
       "      <th>3</th>\n",
       "      <td>Transfer</td>\n",
       "      <td>Cat</td>\n",
       "      <td>True</td>\n",
       "      <td>0</td>\n",
       "      <td>0</td>\n",
       "      <td>0</td>\n",
       "      <td>0</td>\n",
       "      <td>0</td>\n",
       "      <td>0</td>\n",
       "      <td>0</td>\n",
       "      <td>0</td>\n",
       "      <td>0</td>\n",
       "      <td>0</td>\n",
       "      <td>0</td>\n",
       "      <td>0</td>\n",
       "      <td>0</td>\n",
       "      <td>0</td>\n",
       "      <td>0</td>\n",
       "      <td>0</td>\n",
       "      <td>0</td>\n",
       "      <td>0</td>\n",
       "      <td>0</td>\n",
       "      <td>0</td>\n",
       "      <td>0</td>\n",
       "      <td>0</td>\n",
       "      <td>0</td>\n",
       "      <td>0</td>\n",
       "      <td>0</td>\n",
       "      <td>0</td>\n",
       "      <td>0</td>\n",
       "      <td>0</td>\n",
       "      <td>0</td>\n",
       "      <td>0</td>\n",
       "      <td>0</td>\n",
       "      <td>0</td>\n",
       "      <td>0</td>\n",
       "      <td>0</td>\n",
       "      <td>0</td>\n",
       "      <td>0</td>\n",
       "      <td>0</td>\n",
       "      <td>...</td>\n",
       "      <td>0</td>\n",
       "      <td>0</td>\n",
       "      <td>0</td>\n",
       "      <td>0</td>\n",
       "      <td>0</td>\n",
       "      <td>0</td>\n",
       "      <td>0</td>\n",
       "      <td>0</td>\n",
       "      <td>0</td>\n",
       "      <td>0</td>\n",
       "      <td>0</td>\n",
       "      <td>0</td>\n",
       "      <td>0</td>\n",
       "      <td>0</td>\n",
       "      <td>0</td>\n",
       "      <td>0</td>\n",
       "      <td>0</td>\n",
       "      <td>0</td>\n",
       "      <td>0</td>\n",
       "      <td>0</td>\n",
       "      <td>0</td>\n",
       "      <td>0</td>\n",
       "      <td>0</td>\n",
       "      <td>0</td>\n",
       "      <td>0</td>\n",
       "      <td>1</td>\n",
       "      <td>0</td>\n",
       "      <td>0</td>\n",
       "      <td>0</td>\n",
       "      <td>1</td>\n",
       "      <td>0</td>\n",
       "      <td>0</td>\n",
       "      <td>1</td>\n",
       "      <td>0</td>\n",
       "      <td>0</td>\n",
       "      <td>1</td>\n",
       "      <td>1</td>\n",
       "      <td>0</td>\n",
       "      <td>0</td>\n",
       "      <td>0</td>\n",
       "    </tr>\n",
       "    <tr>\n",
       "      <th>4</th>\n",
       "      <td>Transfer</td>\n",
       "      <td>Dog</td>\n",
       "      <td>True</td>\n",
       "      <td>1</td>\n",
       "      <td>0</td>\n",
       "      <td>0</td>\n",
       "      <td>0</td>\n",
       "      <td>0</td>\n",
       "      <td>0</td>\n",
       "      <td>0</td>\n",
       "      <td>0</td>\n",
       "      <td>0</td>\n",
       "      <td>0</td>\n",
       "      <td>0</td>\n",
       "      <td>0</td>\n",
       "      <td>0</td>\n",
       "      <td>0</td>\n",
       "      <td>0</td>\n",
       "      <td>0</td>\n",
       "      <td>0</td>\n",
       "      <td>0</td>\n",
       "      <td>0</td>\n",
       "      <td>0</td>\n",
       "      <td>0</td>\n",
       "      <td>0</td>\n",
       "      <td>0</td>\n",
       "      <td>0</td>\n",
       "      <td>0</td>\n",
       "      <td>0</td>\n",
       "      <td>0</td>\n",
       "      <td>0</td>\n",
       "      <td>0</td>\n",
       "      <td>0</td>\n",
       "      <td>0</td>\n",
       "      <td>0</td>\n",
       "      <td>0</td>\n",
       "      <td>0</td>\n",
       "      <td>0</td>\n",
       "      <td>0</td>\n",
       "      <td>0</td>\n",
       "      <td>...</td>\n",
       "      <td>0</td>\n",
       "      <td>0</td>\n",
       "      <td>0</td>\n",
       "      <td>0</td>\n",
       "      <td>0</td>\n",
       "      <td>0</td>\n",
       "      <td>0</td>\n",
       "      <td>0</td>\n",
       "      <td>0</td>\n",
       "      <td>0</td>\n",
       "      <td>0</td>\n",
       "      <td>0</td>\n",
       "      <td>0</td>\n",
       "      <td>0</td>\n",
       "      <td>0</td>\n",
       "      <td>0</td>\n",
       "      <td>0</td>\n",
       "      <td>0</td>\n",
       "      <td>0</td>\n",
       "      <td>0</td>\n",
       "      <td>0</td>\n",
       "      <td>0</td>\n",
       "      <td>0</td>\n",
       "      <td>0</td>\n",
       "      <td>0</td>\n",
       "      <td>0</td>\n",
       "      <td>0</td>\n",
       "      <td>0</td>\n",
       "      <td>1</td>\n",
       "      <td>1</td>\n",
       "      <td>0</td>\n",
       "      <td>0</td>\n",
       "      <td>1</td>\n",
       "      <td>0</td>\n",
       "      <td>0</td>\n",
       "      <td>1</td>\n",
       "      <td>0</td>\n",
       "      <td>1</td>\n",
       "      <td>0</td>\n",
       "      <td>0</td>\n",
       "    </tr>\n",
       "  </tbody>\n",
       "</table>\n",
       "</div>"
      ],
      "text/plain": [
       "       OutcomeType         ...         uponOutcome_unknown\n",
       "0  Return_to_owner         ...                           0\n",
       "1       Euthanasia         ...                           0\n",
       "2         Adoption         ...                           0\n",
       "3         Transfer         ...                           0\n",
       "4         Transfer         ...                           0\n",
       "\n",
       "[5 rows x 385 columns]"
      ]
     },
     "execution_count": 52,
     "metadata": {},
     "output_type": "execute_result"
    }
   ],
   "source": [
    "model_data=pd.get_dummies(model_data, columns=['Color','age-range','Mix_color','Sex','have_Name','uponOutcome'])\n",
    "model_data.head()"
   ]
  },
  {
   "cell_type": "code",
   "execution_count": 53,
   "metadata": {},
   "outputs": [],
   "source": [
    "#divide data into selected input (x), and expected outputs (y)\n",
    "x = model_data.drop(['OutcomeType','AnimalType'],axis=1)\n",
    "y = model_data['OutcomeType']\n",
    "\n",
    "X_train,X_test,y_train,y_test = train_test_split(x,y,test_size=0.3,random_state=101)\n"
   ]
  },
  {
   "cell_type": "markdown",
   "metadata": {},
   "source": [
    "## 6 different classifiers"
   ]
  },
  {
   "cell_type": "code",
   "execution_count": 54,
   "metadata": {},
   "outputs": [],
   "source": [
    "clf1 = KNeighborsClassifier(n_neighbors=5)\n",
    "clf5 = KNeighborsClassifier(n_neighbors=5,metric='euclidean')\n",
    "clf2 = DecisionTreeClassifier(max_depth=3)\n",
    "clf3 = SVC(kernel='linear')\n",
    "clf6 = SVC(kernel='rbf')\n",
    "clf4 = LogisticRegression()\n",
    "\n",
    "classifiers = [('KNN', clf1), ('DT', clf2), ('SVM-linear', clf3),('Log',clf4),('KNN-euclidean',clf5), ('SVM-rbf', clf6)]"
   ]
  },
  {
   "cell_type": "code",
   "execution_count": 65,
   "metadata": {},
   "outputs": [],
   "source": [
    "results = pd.DataFrame(y_train, columns=['OutcomeType'])\n",
    "#results.head()"
   ]
  },
  {
   "cell_type": "code",
   "execution_count": 56,
   "metadata": {},
   "outputs": [
    {
     "name": "stdout",
     "output_type": "stream",
     "text": [
      "KNN classifier:\n",
      "         \ttrain accuracy: 0.62\n",
      "         \ttest accuracy: 0.59\n",
      "                 precision    recall  f1-score   support\n",
      "\n",
      "       Adoption       0.60      0.78      0.68      3213\n",
      "           Died       0.00      0.00      0.00        51\n",
      "     Euthanasia       0.22      0.13      0.16       480\n",
      "Return_to_owner       0.40      0.32      0.36      1477\n",
      "       Transfer       0.69      0.59      0.64      2798\n",
      "\n",
      "    avg / total       0.57      0.59      0.57      8019\n",
      "\n",
      "DT  classifier:\n",
      "         \ttrain accuracy: 0.61\n",
      "         \ttest accuracy: 0.60\n",
      "                 precision    recall  f1-score   support\n",
      "\n",
      "       Adoption       0.56      0.97      0.71      3213\n",
      "           Died       0.00      0.00      0.00        51\n",
      "     Euthanasia       0.00      0.00      0.00       480\n",
      "Return_to_owner       0.00      0.00      0.00      1477\n",
      "       Transfer       0.71      0.62      0.66      2798\n",
      "\n",
      "    avg / total       0.47      0.60      0.51      8019\n",
      "\n",
      "SVM-linear classifier:\n",
      "         \ttrain accuracy: 0.63\n",
      "         \ttest accuracy: 0.62\n",
      "                 precision    recall  f1-score   support\n",
      "\n",
      "       Adoption       0.65      0.75      0.70      3213\n",
      "           Died       0.00      0.00      0.00        51\n",
      "     Euthanasia       0.50      0.00      0.00       480\n",
      "Return_to_owner       0.42      0.61      0.50      1477\n",
      "       Transfer       0.75      0.59      0.66      2798\n",
      "\n",
      "    avg / total       0.63      0.62      0.60      8019\n",
      "\n",
      "Log classifier:\n",
      "         \ttrain accuracy: 0.64\n",
      "         \ttest accuracy: 0.62\n",
      "                 precision    recall  f1-score   support\n",
      "\n",
      "       Adoption       0.62      0.82      0.71      3213\n",
      "           Died       0.00      0.00      0.00        51\n",
      "     Euthanasia       1.00      0.00      0.01       480\n",
      "Return_to_owner       0.43      0.37      0.40      1477\n",
      "       Transfer       0.71      0.64      0.67      2798\n",
      "\n",
      "    avg / total       0.64      0.62      0.59      8019\n",
      "\n",
      "KNN-euclidean classifier:\n",
      "         \ttrain accuracy: 0.62\n",
      "         \ttest accuracy: 0.59\n",
      "                 precision    recall  f1-score   support\n",
      "\n",
      "       Adoption       0.60      0.78      0.68      3213\n",
      "           Died       0.00      0.00      0.00        51\n",
      "     Euthanasia       0.22      0.13      0.16       480\n",
      "Return_to_owner       0.40      0.32      0.36      1477\n",
      "       Transfer       0.69      0.59      0.64      2798\n",
      "\n",
      "    avg / total       0.57      0.59      0.57      8019\n",
      "\n",
      "SVM-rbf classifier:\n",
      "         \ttrain accuracy: 0.61\n",
      "         \ttest accuracy: 0.61\n",
      "                 precision    recall  f1-score   support\n",
      "\n",
      "       Adoption       0.56      0.97      0.71      3213\n",
      "           Died       0.00      0.00      0.00        51\n",
      "     Euthanasia       0.00      0.00      0.00       480\n",
      "Return_to_owner       0.44      0.09      0.15      1477\n",
      "       Transfer       0.76      0.58      0.66      2798\n",
      "\n",
      "    avg / total       0.57      0.61      0.54      8019\n",
      "\n"
     ]
    }
   ],
   "source": [
    "for clf_name, clf in classifiers:\n",
    "    clf.fit(X_train, y_train)\n",
    "    results[clf_name] = clf.predict(X_train)\n",
    "    print(\"{:3} classifier:\\n \\\n",
    "        \\ttrain accuracy: {:.2f}\\n \\\n",
    "        \\ttest accuracy: {:.2f}\"\\\n",
    "        .format(clf_name, \n",
    "                clf.score(X_train, y_train), \n",
    "                clf.score(X_test, y_test)))\n",
    "    print(classification_report(y_test, clf.predict(X_test)))"
   ]
  },
  {
   "cell_type": "markdown",
   "metadata": {},
   "source": [
    "Conclusion - We got the best at LogisticRegression and in SVM-linear\n",
    "         \ttest accuracy: 0.62"
   ]
  },
  {
   "cell_type": "markdown",
   "metadata": {},
   "source": [
    "## KNN as a base model"
   ]
  },
  {
   "cell_type": "code",
   "execution_count": 70,
   "metadata": {},
   "outputs": [],
   "source": [
    "clf_base = KNeighborsClassifier()"
   ]
  },
  {
   "cell_type": "code",
   "execution_count": 73,
   "metadata": {},
   "outputs": [
    {
     "data": {
      "text/plain": [
       "BaggingClassifier(base_estimator=KNeighborsClassifier(algorithm='auto', leaf_size=30, metric='minkowski',\n",
       "           metric_params=None, n_jobs=1, n_neighbors=5, p=2,\n",
       "           weights='uniform'),\n",
       "         bootstrap=True, bootstrap_features=False, max_features=1.0,\n",
       "         max_samples=1.0, n_estimators=100, n_jobs=1, oob_score=False,\n",
       "         random_state=None, verbose=0, warm_start=False)"
      ]
     },
     "execution_count": 73,
     "metadata": {},
     "output_type": "execute_result"
    }
   ],
   "source": [
    "clf_bagging = BaggingClassifier(base_estimator=clf_base,\n",
    "                                n_estimators=100)\n",
    "clf_bagging.fit(X_train, y_train)"
   ]
  },
  {
   "cell_type": "code",
   "execution_count": null,
   "metadata": {},
   "outputs": [],
   "source": [
    "print(\"{:3} classifier:\\n \\\n",
    "    \\ttrain accuracy: {:.2f}\\n \\\n",
    "    \\ttest accuracy: {:.2f}\"\\\n",
    "    .format('KNN bagging', \n",
    "            clf_bagging.score(X_train, y_train), \n",
    "            clf_bagging.score(X_test, y_test)))\n",
    "print(classification_report(y_test, clf_bagging.predict(X_test)))"
   ]
  },
  {
   "cell_type": "markdown",
   "metadata": {},
   "source": [
    "Conclusion - We got the best "
   ]
  },
  {
   "cell_type": "markdown",
   "metadata": {},
   "source": [
    "## AdaBoost"
   ]
  },
  {
   "cell_type": "code",
   "execution_count": 57,
   "metadata": {},
   "outputs": [],
   "source": [
    "clf1 = DecisionTreeClassifier(max_depth=3)\n",
    "classifiers = [ ('DT', clf1)]"
   ]
  },
  {
   "cell_type": "code",
   "execution_count": 58,
   "metadata": {},
   "outputs": [
    {
     "name": "stdout",
     "output_type": "stream",
     "text": [
      "DT  classifier:\n",
      "     \ttrain accuracy: 0.62\n",
      "     \ttest accuracy: 0.61\n",
      "                 precision    recall  f1-score   support\n",
      "\n",
      "       Adoption       0.57      0.94      0.70      3213\n",
      "           Died       0.00      0.00      0.00        51\n",
      "     Euthanasia       0.00      0.00      0.00       480\n",
      "Return_to_owner       0.46      0.10      0.16      1477\n",
      "       Transfer       0.73      0.62      0.67      2798\n",
      "\n",
      "    avg / total       0.56      0.61      0.55      8019\n",
      "\n"
     ]
    }
   ],
   "source": [
    "for clf_name, clf in classifiers:\n",
    "    clf_adaboost = AdaBoostClassifier(base_estimator=clf,\n",
    "                                      n_estimators=200,\n",
    "                                      learning_rate=0.01)\n",
    "    clf_adaboost.fit(X_train, y_train)\n",
    "    print(\"{:3} classifier:\\n \\\n",
    "    \\ttrain accuracy: {:.2f}\\n \\\n",
    "    \\ttest accuracy: {:.2f}\"\\\n",
    "    .format(clf_name, \n",
    "            clf_adaboost.score(X_train, y_train), \n",
    "            clf_adaboost.score(X_test, y_test)))\n",
    "    print(classification_report(y_test, clf_adaboost.predict(X_test)))"
   ]
  },
  {
   "cell_type": "markdown",
   "metadata": {},
   "source": [
    "Conclusion - We have received a similar results like the model above, but still the LogisticRegression has a better score "
   ]
  },
  {
   "cell_type": "markdown",
   "metadata": {},
   "source": [
    "## Pipeline"
   ]
  },
  {
   "cell_type": "code",
   "execution_count": 59,
   "metadata": {},
   "outputs": [],
   "source": [
    "steps = [ ('scale', StandardScaler()), ('reduce_dim', PCA(2)), ('clf', KNeighborsClassifier()) ]"
   ]
  },
  {
   "cell_type": "code",
   "execution_count": 60,
   "metadata": {},
   "outputs": [],
   "source": [
    "pipe = Pipeline(steps)"
   ]
  },
  {
   "cell_type": "code",
   "execution_count": 61,
   "metadata": {},
   "outputs": [
    {
     "data": {
      "text/plain": [
       "Pipeline(memory=None,\n",
       "     steps=[('scale', StandardScaler(copy=True, with_mean=True, with_std=True)), ('reduce_dim', PCA(copy=True, iterated_power='auto', n_components=2, random_state=None,\n",
       "  svd_solver='auto', tol=0.0, whiten=False)), ('clf', KNeighborsClassifier(algorithm='auto', leaf_size=30, metric='minkowski',\n",
       "           metric_params=None, n_jobs=1, n_neighbors=5, p=2,\n",
       "           weights='uniform'))])"
      ]
     },
     "execution_count": 61,
     "metadata": {},
     "output_type": "execute_result"
    }
   ],
   "source": [
    "pipe.fit(X_train, y_train)"
   ]
  },
  {
   "cell_type": "code",
   "execution_count": 62,
   "metadata": {},
   "outputs": [],
   "source": [
    "train_pred = pipe.predict(X_train)"
   ]
  },
  {
   "cell_type": "code",
   "execution_count": 63,
   "metadata": {},
   "outputs": [
    {
     "data": {
      "text/plain": [
       "0.5809951365506921"
      ]
     },
     "execution_count": 63,
     "metadata": {},
     "output_type": "execute_result"
    }
   ],
   "source": [
    "test_pred = pipe.predict(X_test)\n",
    "accuracy_score(test_pred, y_test)"
   ]
  },
  {
   "cell_type": "markdown",
   "metadata": {},
   "source": [
    "Conclusion - We have received a lower results then the Voting"
   ]
  },
  {
   "cell_type": "markdown",
   "metadata": {},
   "source": [
    "## Cross validation"
   ]
  },
  {
   "cell_type": "code",
   "execution_count": 64,
   "metadata": {},
   "outputs": [
    {
     "name": "stdout",
     "output_type": "stream",
     "text": [
      "1 components\n",
      "mean: 0.5686274958068902\n",
      "std: 0.006209806872356201\n",
      "\n",
      "2 components\n",
      "mean: 0.5779794699341105\n",
      "std: 0.006559666059439285\n",
      "\n",
      "3 components\n",
      "mean: 0.5920368127722248\n",
      "std: 0.009357333473621826\n",
      "\n",
      "4 components\n",
      "mean: 0.5897382030825533\n",
      "std: 0.006852678831317991\n",
      "\n",
      "5 components\n",
      "mean: 0.5935867003346645\n",
      "std: 0.007074953909476144\n",
      "\n",
      "6 components\n",
      "mean: 0.5940653258022862\n",
      "std: 0.008734511256090758\n",
      "\n",
      "7 components\n",
      "mean: 0.5893088249279497\n",
      "std: 0.008678607535189673\n",
      "\n",
      "8 components\n",
      "mean: 0.5929991790277261\n",
      "std: 0.006812323858923861\n",
      "\n",
      "9 components\n",
      "mean: 0.5878161269996008\n",
      "std: 0.009734556037383213\n",
      "\n"
     ]
    }
   ],
   "source": [
    "from sklearn.model_selection import train_test_split, cross_val_score, GridSearchCV\n",
    "X_train,X_test,y_train,y_test = train_test_split(x,y,test_size=0.3,random_state=101)\n",
    "\n",
    "\n",
    "for n in range (1,10):\n",
    "    steps = [('scale', StandardScaler()), ('reduce_dim', PCA(n)), ('clf', KNeighborsClassifier())]\n",
    "    pipe = Pipeline(steps)    \n",
    "    \n",
    "    scores = cross_val_score(pipe, X_train, y_train, cv=5)\n",
    "    \n",
    "    print(f'{n} components')\n",
    "    print(f'mean: {scores.mean()}')\n",
    "    print(f'std: {scores.std()}\\n')"
   ]
  },
  {
   "cell_type": "markdown",
   "metadata": {},
   "source": [
    "Conclusion - We have received on 6 components the best result and the lower Std"
   ]
  },
  {
   "cell_type": "code",
   "execution_count": null,
   "metadata": {},
   "outputs": [],
   "source": []
  }
 ],
 "metadata": {
  "kernelspec": {
   "display_name": "Python 3",
   "language": "python",
   "name": "python3"
  },
  "language_info": {
   "codemirror_mode": {
    "name": "ipython",
    "version": 3
   },
   "file_extension": ".py",
   "mimetype": "text/x-python",
   "name": "python",
   "nbconvert_exporter": "python",
   "pygments_lexer": "ipython3",
   "version": "3.6.4"
  }
 },
 "nbformat": 4,
 "nbformat_minor": 2
}
